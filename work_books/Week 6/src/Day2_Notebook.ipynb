{
  "cells": [
    {
      "cell_type": "markdown",
      "metadata": {
        "id": "AHgAGJHyuxuE"
      },
      "source": [
        "# Day 2: Control Flow and Basic Functions in Python\n",
        "\n",
        "Welcome back! Yesterday, we learned about Python basics like variables, data types, and printing output. Today, we'll dive into how to make our programs make decisions and repeat actions. We'll also learn how to create reusable blocks of code called functions.\n",
        "\n",
        "**Today's Topics:**\n",
        "\n",
        "* Making Decisions: `if`, `elif`, `else`\n",
        "* Repeating Actions: `for` loops and `while` loops\n",
        "* Controlling Loops: `break` and `continue`\n",
        "* Building Reusable Code: Basic Functions"
      ],
      "id": "AHgAGJHyuxuE"
    },
    {
      "cell_type": "markdown",
      "metadata": {
        "id": "MRYMIqDxuxuH"
      },
      "source": [
        "## 1. Making Decisions with `if` and `else`\n",
        "\n",
        "Often, we want our code to do different things based on whether a certain condition is true or false. Think about real life: *if* it's raining, you take an umbrella, *else* (otherwise) you don't.\n",
        "\n",
        "In Python, we use the `if` statement for this.\n",
        "\n",
        "**Syntax:**\n",
        "```python\n",
        "if condition:\n",
        "    # Code to run if the condition is True\n",
        "    # Notice the indentation (spaces)! This is crucial in Python.\n",
        "else:\n",
        "    # Code to run if the condition is False\n",
        "    # This block is also indented.\n",
        "```\n",
        "\n",
        "* `if`: Keyword to start the decision.\n",
        "* `condition`: An expression that evaluates to either `True` or `False` (like `age > 18`, `name == \"Alice\"`).\n",
        "* `:`: A colon marks the end of the `if` condition line.\n",
        "* **Indentation**: The lines of code *inside* the `if` block *must* be indented (usually 4 spaces). This tells Python which code belongs to the `if` statement.\n",
        "* `else`: Optional keyword. The code block under `else` runs only if the `if` condition was `False`.\n",
        "* `:`: A colon also follows the `else` keyword.\n",
        "* **Indentation**: The code inside the `else` block must also be indented."
      ],
      "id": "MRYMIqDxuxuH"
    },
    {
      "cell_type": "markdown",
      "metadata": {
        "id": "Tnnlr_NSuxuI"
      },
      "source": [
        "**Example 1: Checking Age**"
      ],
      "id": "Tnnlr_NSuxuI"
    },
    {
      "cell_type": "code",
      "execution_count": null,
      "metadata": {
        "id": "RXx1LuEVuxuJ"
      },
      "outputs": [],
      "source": [
        "age = 20\n",
        "\n",
        "# Check if the age is 18 or greater\n",
        "print(\"Checking age:\", age)\n",
        "\n",
        "if age >= 18:\n",
        "    # This block runs because 20 >= 18 is True\n",
        "    print(\"You are an adult.\")\n",
        "    print(\"You can vote.\") # Multiple lines are allowed inside the block\n",
        "else:\n",
        "    # This block is skipped because the condition was True\n",
        "    print(\"You are a minor.\")\n",
        "\n",
        "print(\"--- End of age check ---\") # This line runs regardless, as it's not indented under if/else\n",
        "\n",
        "# Let's try with a different age\n",
        "age = 15\n",
        "print(\"\\nChecking age:\", age)\n",
        "\n",
        "if age >= 18:\n",
        "    # This block is skipped because 15 >= 18 is False\n",
        "    print(\"You are an adult.\")\n",
        "    print(\"You can vote.\")\n",
        "else:\n",
        "    # This block runs because the condition was False\n",
        "    print(\"You are a minor.\")\n",
        "\n",
        "print(\"--- End of age check ---\")"
      ],
      "id": "RXx1LuEVuxuJ"
    },
    {
      "cell_type": "markdown",
      "metadata": {
        "id": "L9-zGwHRuxuL"
      },
      "source": [
        "**Explanation:**\n",
        "\n",
        "1.  We set a variable `age`.\n",
        "2.  The `if age >= 18:` line checks if the value in `age` is greater than or equal to 18.\n",
        "3.  If the condition is `True`, the indented code block right below the `if` is executed.\n",
        "4.  If the condition is `False`, Python skips the `if` block and executes the indented code block below the `else:`.\n",
        "5.  Code that is *not* indented under `if` or `else` runs normally after the `if-else` structure is finished."
      ],
      "id": "L9-zGwHRuxuL"
    },
    {
      "cell_type": "markdown",
      "metadata": {
        "id": "WQI2khD1uxuM"
      },
      "source": [
        "**Exercise 1: Positive or Negative?**\n",
        "\n",
        "Write code that takes a number stored in a variable `num` and prints whether it's \"Positive\" or \"Negative or Zero\"."
      ],
      "id": "WQI2khD1uxuM"
    },
    {
      "cell_type": "code",
      "execution_count": null,
      "metadata": {
        "id": "Wp2ULx5EuxuM"
      },
      "outputs": [],
      "source": [
        "num = 5\n",
        "\n",
        "# Your code here\n",
        "# Check if num is greater than 0\n",
        "if num > 0:\n",
        "    # If it is, print \"Positive\"\n",
        "    print(\"Positive\")\n",
        "else:\n",
        "    # Otherwise (else), print \"Negative or Zero\"\n",
        "    print(\"Negative or Zero\")\n"
      ],
      "id": "Wp2ULx5EuxuM"
    },
    {
      "cell_type": "markdown",
      "metadata": {
        "id": "Ea7JP1t7uxuN"
      },
      "source": [
        "## 2. Handling Multiple Conditions with `if`, `elif`, and `else`\n",
        "\n",
        "What if you have more than two possibilities? For example, a number could be positive, negative, *or* zero. We can use `elif` (short for \"else if\") to check additional conditions.\n",
        "\n",
        "**Syntax:**\n",
        "```python\n",
        "if condition1:\n",
        "    # Code for condition1 being True\n",
        "elif condition2:\n",
        "    # Code if condition1 was False, but condition2 is True\n",
        "elif condition3:\n",
        "    # Code if condition1 and condition2 were False, but condition3 is True\n",
        "# You can have as many elif statements as you need\n",
        "else:\n",
        "    # Code if ALL the above conditions were False\n",
        "```\n",
        "\n",
        "* Python checks the conditions in order from top to bottom.\n",
        "* As soon as it finds a `True` condition, it runs the corresponding code block and *skips* the rest of the `elif` and `else` blocks in that chain.\n",
        "* The final `else` is optional and acts as a catch-all if none of the `if` or `elif` conditions were `True`."
      ],
      "id": "Ea7JP1t7uxuN"
    },
    {
      "cell_type": "markdown",
      "metadata": {
        "id": "A_Lg2fOYuxuN"
      },
      "source": [
        "**Example 2: Grading System**"
      ],
      "id": "A_Lg2fOYuxuN"
    },
    {
      "cell_type": "code",
      "execution_count": null,
      "metadata": {
        "id": "OV6Ky9vEuxuO"
      },
      "outputs": [],
      "source": [
        "score = 75\n",
        "grade = \"\"\n",
        "\n",
        "print(f\"Checking score: {score}\") # Using an f-string for nice output!\n",
        "\n",
        "if score >= 90:\n",
        "    grade = \"A\"\n",
        "elif score >= 80: # This runs only if score was NOT >= 90\n",
        "    grade = \"B\"\n",
        "elif score >= 70: # This runs only if score was NOT >= 90 AND NOT >= 80\n",
        "    grade = \"C\"\n",
        "elif score >= 60:\n",
        "    grade = \"D\"\n",
        "else: # This runs only if score was less than 60\n",
        "    grade = \"F\"\n",
        "\n",
        "print(f\"The calculated grade is: {grade}\")\n",
        "\n",
        "# Try changing the score and running again!\n",
        "score = 92\n",
        "print(f\"\\nChecking score: {score}\")\n",
        "if score >= 90:\n",
        "    grade = \"A\"\n",
        "elif score >= 80:\n",
        "    grade = \"B\"\n",
        "elif score >= 70:\n",
        "    grade = \"C\"\n",
        "elif score >= 60:\n",
        "    grade = \"D\"\n",
        "else:\n",
        "    grade = \"F\"\n",
        "print(f\"The calculated grade is: {grade}\")"
      ],
      "id": "OV6Ky9vEuxuO"
    },
    {
      "cell_type": "markdown",
      "metadata": {
        "id": "6CUXK7AouxuO"
      },
      "source": [
        "**Explanation:**\n",
        "\n",
        "1.  We have a `score`.\n",
        "2.  Python checks `if score >= 90`. If true, `grade` becomes \"A\" and the rest of the `elif`/`else` are skipped.\n",
        "3.  If `score >= 90` is false, it checks `elif score >= 80`. If true, `grade` becomes \"B\", and the rest are skipped.\n",
        "4.  This continues until a condition is met or it reaches the `else` block.\n",
        "5.  The order matters! If we checked for `>= 70` before `>= 90`, a score like 95 would incorrectly get a \"C\" because `95 >= 70` is true."
      ],
      "id": "6CUXK7AouxuO"
    },
    {
      "cell_type": "markdown",
      "metadata": {
        "id": "j4VSsRa5uxuP"
      },
      "source": [
        "**Exercise 2: Number Categories**\n",
        "\n",
        "Expand Exercise 1. Write code that takes a number `num` and prints \"Positive\" if it's greater than 0, \"Negative\" if it's less than 0, and \"Zero\" if it is exactly 0."
      ],
      "id": "j4VSsRa5uxuP"
    },
    {
      "cell_type": "code",
      "execution_count": null,
      "metadata": {
        "id": "0DbREZ92uxuP"
      },
      "outputs": [],
      "source": [
        "num = -10\n",
        "\n",
        "# Your code here\n",
        "# Check if num > 0, print \"Positive\"\n",
        "if num > 0:\n",
        "    print(\"Positive\")\n",
        "# Else if num < 0, print \"Negative\"\n",
        "elif num < 0:\n",
        "    print(\"Negative\")\n",
        "# Else (meaning it must be 0), print \"Zero\"\n",
        "else:\n",
        "    print(\"Zero\")\n",
        "\n",
        "# Try changing num to 0 and a positive number to test!\n",
        "num = 0\n",
        "if num > 0:\n",
        "    print(\"Positive\")\n",
        "elif num < 0:\n",
        "    print(\"Negative\")\n",
        "else:\n",
        "    print(\"Zero\")"
      ],
      "id": "0DbREZ92uxuP"
    },
    {
      "cell_type": "markdown",
      "metadata": {
        "id": "8tGB4SHNuxuP"
      },
      "source": [
        "## 3. Nested `if` Statements\n",
        "\n",
        "You can put `if`, `elif`, and `else` statements inside *other* `if`, `elif`, or `else` blocks. This is called nesting.\n",
        "\n",
        "**Use Case:** When you need to check a condition only if another condition is already true.\n",
        "\n",
        "**Syntax:**\n",
        "```python\n",
        "if outer_condition:\n",
        "    # Code for outer_condition being True\n",
        "    print(\"Outer condition met.\")\n",
        "    \n",
        "    if inner_condition:\n",
        "        # Code for inner_condition being True (only checked if outer_condition was True)\n",
        "        # Notice the double indentation!\n",
        "        print(\"Inner condition also met.\")\n",
        "    else:\n",
        "        # Code for inner_condition being False\n",
        "        print(\"Inner condition NOT met.\")\n",
        "else:\n",
        "    # Code for outer_condition being False\n",
        "    print(\"Outer condition NOT met.\")\n",
        "```\n",
        "\n",
        "**Caution:** Too much nesting can make code hard to read. Use it when it makes logical sense."
      ],
      "id": "8tGB4SHNuxuP"
    },
    {
      "cell_type": "markdown",
      "metadata": {
        "id": "TojTkp21uxuP"
      },
      "source": [
        "**Example 3: Simple Login Check**"
      ],
      "id": "TojTkp21uxuP"
    },
    {
      "cell_type": "code",
      "execution_count": null,
      "metadata": {
        "id": "zfbT6CrluxuQ"
      },
      "outputs": [],
      "source": [
        "username_correct = True\n",
        "password_correct = False\n",
        "\n",
        "print(\"Attempting login...\")\n",
        "\n",
        "if username_correct:\n",
        "    print(\"Username OK.\")\n",
        "    # Only check password if username was correct\n",
        "    if password_correct:\n",
        "        print(\"Password OK.\")\n",
        "        print(\"Login Successful!\")\n",
        "    else:\n",
        "        print(\"Password Incorrect.\")\n",
        "        print(\"Login Failed.\")\n",
        "else:\n",
        "    print(\"Username Incorrect.\")\n",
        "    print(\"Login Failed.\")\n",
        "\n",
        "# Try changing username_correct and password_correct to True/False and see the output."
      ],
      "id": "zfbT6CrluxuQ"
    },
    {
      "cell_type": "markdown",
      "metadata": {
        "id": "pn9u-BCguxuQ"
      },
      "source": [
        "**Exercise 3: Ticket Discount**\n",
        "\n",
        "Imagine a movie ticket system:\n",
        "* Standard price is £10.\n",
        "* If the person is a student (`is_student = True`), they get a discount.\n",
        "* *Inside* the student check, if it's also a Tuesday (`is_tuesday = True`), the price is £5.\n",
        "* Otherwise (student but not Tuesday), the price is £7.\n",
        "* If the person is not a student, the price is the standard £10.\n",
        "\n",
        "Write nested `if` statements to determine the `ticket_price` based on the boolean variables `is_student` and `is_tuesday`."
      ],
      "id": "pn9u-BCguxuQ"
    },
    {
      "cell_type": "code",
      "execution_count": null,
      "metadata": {
        "id": "cm-WWf2vuxuQ"
      },
      "outputs": [],
      "source": [
        "is_student = True\n",
        "is_tuesday = False\n",
        "ticket_price = 0 # Initialize the variable\n",
        "\n",
        "# Your nested if/else code here\n",
        "if is_student:\n",
        "    print(\"Person is a student.\")\n",
        "    if is_tuesday:\n",
        "        print(\"It is Tuesday.\")\n",
        "        ticket_price = 5\n",
        "    else:\n",
        "        print(\"It is not Tuesday.\")\n",
        "        ticket_price = 7\n",
        "else:\n",
        "    print(\"Person is not a student.\")\n",
        "    ticket_price = 10\n",
        "\n",
        "print(f\"Is student? {is_student}, Is Tuesday? {is_tuesday}\")\n",
        "print(f\"The ticket price is: £{ticket_price}\")\n",
        "\n",
        "# Test with other combinations: (True, True), (False, True), (False, False)\n",
        "is_student = False\n",
        "is_tuesday = True\n",
        "if is_student:\n",
        "    if is_tuesday:\n",
        "        ticket_price = 5\n",
        "    else:\n",
        "        ticket_price = 7\n",
        "else:\n",
        "    ticket_price = 10\n",
        "print(f\"\\nIs student? {is_student}, Is Tuesday? {is_tuesday}\")\n",
        "print(f\"The ticket price is: £{ticket_price}\")"
      ],
      "id": "cm-WWf2vuxuQ"
    },
    {
      "cell_type": "markdown",
      "metadata": {
        "id": "uKij3JOwuxuQ"
      },
      "source": [
        "## Group Activity: Fix the Conditional Code!\n",
        "\n",
        "Work with your neighbours. The following code block has errors related to `if`/`elif`/`else` syntax or logic. Find the mistakes and fix them.\n",
        "\n",
        "**Goal:** The code should correctly classify a `temperature`:\n",
        "* <= 0: \"Freezing\"\n",
        "* > 0 and <= 15: \"Chilly\"\n",
        "* > 15 and < 25: \"Warm\"\n",
        "* >= 25 and <45: \"Normal\"\n",
        "* >45: \"Hot\""
      ],
      "id": "uKij3JOwuxuQ"
    },
    {
      "cell_type": "code",
      "execution_count": null,
      "metadata": {
        "tags": [],
        "id": "d9gvK_y_uxuQ"
      },
      "outputs": [],
      "source": [
        "# BROKEN CODE - FIX ME!\n",
        "\n",
        "temperature = 30\n",
        "classification = \"\"\n",
        "\n",
        "# Missing colon, incorrect indentation, incorrect elif logic, unnecessary condition on else\n",
        "# if temperature <= 0\n",
        "#   print(\"Freezing\")\n",
        "# elif temperature > 0 and <= 15:\n",
        "#     classification = \"Chilly\"\n",
        "# elif temperature > 15 or < 25:\n",
        "#     classification = \"Warm\"\n",
        "# else temperature >= 25:\n",
        "#     classification = \"Hot\"\n",
        "\n",
        "# Corrected Code:\n",
        "if temperature <= 0:\n",
        "    classification = \"Freezing\"\n",
        "elif temperature > 0 and temperature <= 15: # Need 'temperature' in both parts of 'and'\n",
        "    classification = \"Chilly\"\n",
        "elif temperature > 15 and temperature < 25: # Need 'temperature' in both parts, and should be 'and'\n",
        "    classification = \"Warm\"\n",
        "elif temperature > 25 and temperature <= 45: # Need 'temperature' in both parts, and should be 'and'\n",
        "    classification = \"Normal\"\n",
        "else: # 'else' doesn't take a condition, it covers all other cases (> 45)\n",
        "    classification = \"Hot\"\n",
        "\n",
        "# Error in original: print(\"The temperature is:\", classification)\n",
        "# Corrected to print the classification, not just 'print'\n",
        "print(f\"The temperature {temperature} is: {classification}\")"
      ],
      "id": "d9gvK_y_uxuQ"
    },
    {
      "cell_type": "markdown",
      "metadata": {
        "id": "iEEPfFlGuxuQ"
      },
      "source": [
        "**Hints:**\n",
        "* Check for missing colons (`:`).\n",
        "* Check indentation.\n",
        "* Check the logic in the `elif` conditions. Does `and <= 15` make sense on its own? Does `or < 25` make sense?\n",
        "* Should the last condition be an `elif` or just an `else`? Does `else` take a condition?"
      ],
      "id": "iEEPfFlGuxuQ"
    },
    {
      "cell_type": "markdown",
      "metadata": {
        "id": "4ZULZZmZuxuQ"
      },
      "source": [
        "---"
      ],
      "id": "4ZULZZmZuxuQ"
    },
    {
      "cell_type": "markdown",
      "metadata": {
        "id": "A_7cDP14uxuR"
      },
      "source": [
        "## 4. Repeating Actions with `for` Loops\n",
        "\n",
        "Sometimes you want to perform the same action multiple times or for every item in a collection (like a list). This is called iteration or looping.\n",
        "\n",
        "The `for` loop is used to iterate over a *sequence* (like a list, a string, or a range of numbers).\n",
        "\n",
        "**Syntax:**\n",
        "```python\n",
        "for variable_name in sequence:\n",
        "    # Code to execute for each item in the sequence\n",
        "    # This block is indented\n",
        "    # The variable_name will hold the current item from the sequence\n",
        "```\n",
        "\n",
        "* `for`: Keyword to start the loop.\n",
        "* `variable_name`: A name you choose (e.g., `item`, `number`, `char`). In each iteration of the loop, this variable will hold the next value from the sequence.\n",
        "* `in`: Keyword connecting the variable to the sequence.\n",
        "* `sequence`: The collection you want to loop through (e.g., a list `[1, 2, 3]`, a string `\"hello\"`, or the result of `range(5)`).\n",
        "* `:`: Colon marks the end of the `for` loop setup.\n",
        "* **Indentation**: The code block to be repeated must be indented."
      ],
      "id": "A_7cDP14uxuR"
    },
    {
      "cell_type": "markdown",
      "metadata": {
        "id": "qev7rIVluxuR"
      },
      "source": [
        "**Example 4a: Looping Through a List**"
      ],
      "id": "qev7rIVluxuR"
    },
    {
      "cell_type": "code",
      "execution_count": null,
      "metadata": {
        "id": "oz76OqFmuxuR"
      },
      "outputs": [],
      "source": [
        "fruits = [\"apple\", \"banana\", \"cherry\"]\n",
        "\n",
        "print(\"My fruits:\")\n",
        "# The loop will run once for each item in the 'fruits' list\n",
        "for fruit in fruits:\n",
        "    # In the first iteration, 'fruit' will be \"apple\"\n",
        "    # In the second iteration, 'fruit' will be \"banana\"\n",
        "    # In the third iteration, 'fruit' will be \"cherry\"\n",
        "    print(f\"- {fruit}\")\n",
        "\n",
        "print(\"Loop finished!\")"
      ],
      "id": "oz76OqFmuxuR"
    },
    {
      "cell_type": "markdown",
      "metadata": {
        "id": "-eKAi6w1uxuR"
      },
      "source": [
        "**Example 4b: Looping Through a String**"
      ],
      "id": "-eKAi6w1uxuR"
    },
    {
      "cell_type": "code",
      "execution_count": null,
      "metadata": {
        "id": "0ULJTGfcuxuS"
      },
      "outputs": [],
      "source": [
        "message = \"Hi!\"\n",
        "\n",
        "print(f\"Characters in '{message}':\")\n",
        "# The loop runs once for each character in the string\n",
        "for character in message:\n",
        "    # 1st iteration: character = \"H\"\n",
        "    # 2nd iteration: character = \"i\"\n",
        "    # 3rd iteration: character = \"!\"\n",
        "    print(character)\n",
        "\n",
        "print(\"Done with characters.\")"
      ],
      "id": "0ULJTGfcuxuS"
    },
    {
      "cell_type": "markdown",
      "metadata": {
        "id": "oY-uM-M2uxuS"
      },
      "source": [
        "**Example 4c: Looping with `range()`**\n",
        "\n",
        "Often, you want to loop a specific number of times. The `range()` function is perfect for this. It generates a sequence of numbers.\n",
        "\n",
        "* `range(stop)`: Generates numbers from 0 up to (but *not including*) `stop`.\n",
        "    * `range(5)` gives `0, 1, 2, 3, 4`\n",
        "* `range(start, stop)`: Generates numbers from `start` up to (but *not including*) `stop`.\n",
        "    * `range(2, 6)` gives `2, 3, 4, 5`\n",
        "* `range(start, stop, step)`: Generates numbers from `start` up to `stop`, incrementing by `step`.\n",
        "    * `range(1, 10, 2)` gives `1, 3, 5, 7, 9`"
      ],
      "id": "oY-uM-M2uxuS"
    },
    {
      "cell_type": "code",
      "execution_count": null,
      "metadata": {
        "id": "tE-rPpjkuxuS"
      },
      "outputs": [],
      "source": [
        "print(\"Numbers from 0 to 4:\")\n",
        "# Loop 5 times, 'i' will take values 0, 1, 2, 3, 4\n",
        "for i in range(5):\n",
        "    print(i)\n",
        "\n",
        "print(\"\\nNumbers from 2 to 5:\")\n",
        "# Loop with 'num' taking values 2, 3, 4, 5\n",
        "for num in range(2, 6):\n",
        "    print(num)\n",
        "\n",
        "print(\"\\nEven numbers from 0 to 8:\")\n",
        "# Loop with 'even' taking values 0, 2, 4, 6, 8\n",
        "for even in range(0, 10, 2):\n",
        "    print(even)"
      ],
      "id": "tE-rPpjkuxuS"
    },
    {
      "cell_type": "markdown",
      "metadata": {
        "id": "F-VSjfg8uxuS"
      },
      "source": [
        "**Exercise 4: Summing Numbers**\n",
        "\n",
        "Use a `for` loop and `range()` to calculate the sum of all numbers from 1 to 10 (inclusive)."
      ],
      "id": "F-VSjfg8uxuS"
    },
    {
      "cell_type": "code",
      "execution_count": null,
      "metadata": {
        "id": "YogUBwTbuxuT"
      },
      "outputs": [],
      "source": [
        "total_sum = 0 # Start with a sum of 0\n",
        "\n",
        "# Loop through numbers from 1 up to (and including) 10.\n",
        "# Remember range(start, stop) goes up to stop-1.\n",
        "# Hint: You might need range(1, 11)\n",
        "for number in range(1, 11):\n",
        "    # In each iteration, add the current 'number' to 'total_sum'\n",
        "    # You can use: total_sum = total_sum + number\n",
        "    # Or the shorthand: total_sum += number\n",
        "    total_sum += number # Corrected line\n",
        "\n",
        "print(f\"The sum of numbers from 1 to 10 is: {total_sum}\") # Should be 55"
      ],
      "id": "YogUBwTbuxuT"
    },
    {
      "cell_type": "markdown",
      "metadata": {
        "id": "2VnIUbmXuxuT"
      },
      "source": [
        "## 5. Controlling `for` Loops with `break` and `continue`\n",
        "\n",
        "Sometimes you need more control inside a loop.\n",
        "\n",
        "* `break`: Immediately **exits** the entire current loop (the `for` loop it's directly inside). Execution continues with the first statement *after* the loop.\n",
        "* `continue`: Skips the rest of the code *inside the current iteration* of the loop and immediately jumps to the **next iteration**."
      ],
      "id": "2VnIUbmXuxuT"
    },
    {
      "cell_type": "markdown",
      "metadata": {
        "id": "e_zl2rFfuxuT"
      },
      "source": [
        "**Example 5a: Using `break` to Find an Item**"
      ],
      "id": "e_zl2rFfuxuT"
    },
    {
      "cell_type": "code",
      "execution_count": null,
      "metadata": {
        "id": "_NGIe7VIuxuT"
      },
      "outputs": [],
      "source": [
        "numbers = [1, 5, 8, 12, 3, 10, 7]\n",
        "target = 12\n",
        "found = False # A flag to track if we found the target\n",
        "\n",
        "print(f\"Searching for {target} in {numbers}\")\n",
        "\n",
        "for num in numbers:\n",
        "    print(f\"Checking {num}...\")\n",
        "    if num == target:\n",
        "        print(f\"Found {target}!\")\n",
        "        found = True\n",
        "        break # Exit the loop immediately, no need to check further\n",
        "    # This print statement is skipped if break is executed\n",
        "    print(f\"{num} is not the target.\")\n",
        "\n",
        "# This runs after the loop finishes (either normally or via break)\n",
        "if not found:\n",
        "    print(f\"{target} was not in the list.\")\n",
        "\n",
        "print(\"Search complete.\")"
      ],
      "id": "_NGIe7VIuxuT"
    },
    {
      "cell_type": "markdown",
      "metadata": {
        "id": "PbMXlk8guxuU"
      },
      "source": [
        "**Example 5b: Using `continue` to Skip Items**"
      ],
      "id": "PbMXlk8guxuU"
    },
    {
      "cell_type": "code",
      "execution_count": null,
      "metadata": {
        "id": "Y-lzENA5uxuU"
      },
      "outputs": [],
      "source": [
        "numbers = [1, -2, 3, -4, 5, 0, 6]\n",
        "\n",
        "print(\"Processing positive numbers only:\")\n",
        "\n",
        "for num in numbers:\n",
        "    print(f\"\\nChecking {num}...\")\n",
        "    if num <= 0:\n",
        "        print(f\"Skipping non-positive number {num}.\")\n",
        "        continue # Go to the next iteration immediately\n",
        "\n",
        "    # This code only runs if 'continue' was NOT executed (i.e., if num > 0)\n",
        "    print(f\"Processing positive number: {num}\")\n",
        "    # Imagine doing more work here with the positive number...\n",
        "    pass\n",
        "\n",
        "print(\"\\nFinished processing list.\")"
      ],
      "id": "Y-lzENA5uxuU"
    },
    {
      "cell_type": "markdown",
      "metadata": {
        "id": "0AJiG8cSuxuU"
      },
      "source": [
        "**Exercise 5c: Print Even Numbers**\n",
        "\n",
        "Loop through numbers from 1 to 15. Use `continue` to skip the odd numbers and only print the even numbers.  \n"
      ],
      "id": "0AJiG8cSuxuU"
    },
    {
      "cell_type": "code",
      "execution_count": null,
      "metadata": {
        "id": "clnPm6ymuxuU"
      },
      "outputs": [],
      "source": [
        "print(\"Even numbers between 1 and 15:\")\n",
        "\n",
        "for i in range(1, 16): # Numbers 1 to 15\n",
        "    # How to check if 'i' is odd?\n",
        "    # Hint: Use the modulo operator '%'. i % 2 != 0 means it's odd.\n",
        "    if i % 2 != 0: # If the number is odd\n",
        "        # Skip the rest of this iteration\n",
        "        continue # Corrected line\n",
        "\n",
        "    # This line should only run for even numbers\n",
        "    print(i)"
      ],
      "id": "clnPm6ymuxuU"
    },
    {
      "cell_type": "markdown",
      "source": [
        "**Group Activity: Print Even Numbers**\n",
        "\n",
        "Loop through numbers from 1 to 15. Use `continue` to skip the odd numbers and only print the even numbers.  \n",
        "Extension1: Sum all the even numbers  \n",
        "Extension2: skip the even numbers and sum all the odd numbers"
      ],
      "metadata": {
        "id": "nOH6J8HWyQ__"
      },
      "id": "nOH6J8HWyQ__"
    },
    {
      "cell_type": "code",
      "source": [
        "# Skip Odd numbers and Total all the even numbers\n",
        "print(\"Even numbers between 1 and 15:\")\n",
        "\n",
        "# Initialise a variable to keep track of the total sum of even numbers\n",
        "total = 0\n",
        "\n",
        "# Loop through numbers from 1 to 15 (inclusive)\n",
        "for i in range(1, 16):\n",
        "\n",
        "    # Check if the number is odd using the modulo operator\n",
        "    if i % 2 != 0:\n",
        "        # If it's odd, skip to the next iteration of the loop\n",
        "        continue\n",
        "\n",
        "    # Print the number since it's even\n",
        "    print(i)\n",
        "\n",
        "    # Add the even number to the total sum\n",
        "    total += i\n",
        "\n",
        "# After the loop, print the total sum of all even numbers found\n",
        "print(\"Total of even numbers:\", total)\n"
      ],
      "metadata": {
        "colab": {
          "base_uri": "https://localhost:8080/"
        },
        "id": "QiE35xWbyT7D",
        "outputId": "d1995cd4-daba-4d5c-96da-f038091e6217"
      },
      "id": "QiE35xWbyT7D",
      "execution_count": null,
      "outputs": [
        {
          "output_type": "stream",
          "name": "stdout",
          "text": [
            "Even numbers between 1 and 15:\n",
            "2\n",
            "4\n",
            "6\n",
            "8\n",
            "10\n",
            "12\n",
            "14\n",
            "Total of even numbers: 56\n"
          ]
        }
      ]
    },
    {
      "cell_type": "code",
      "source": [
        "# Skip even numbers and Total the odd numbers\n",
        "print(\"Odd numbers between 1 and 15:\")\n",
        "\n",
        "# Initialise a variable to keep track of the total sum of odd numbers\n",
        "total = 0\n",
        "\n",
        "# Loop through numbers from 1 to 15 (inclusive)\n",
        "for i in range(1, 16):\n",
        "\n",
        "    # Check if the number is even using the modulo operator\n",
        "    if i % 2 == 0:\n",
        "        # If it's even, skip to the next iteration of the loop\n",
        "        continue\n",
        "\n",
        "    # Print the number since it's odd\n",
        "    print(i)\n",
        "\n",
        "    # Add the odd number to the total sum\n",
        "    total += i\n",
        "\n",
        "# After the loop, print the total sum of all odd numbers found\n",
        "print(\"Total of odd numbers:\", total)\n"
      ],
      "metadata": {
        "colab": {
          "base_uri": "https://localhost:8080/"
        },
        "id": "_ODkykHyzBWh",
        "outputId": "da6e95ea-6b2d-43da-8357-95edb4aa869d"
      },
      "id": "_ODkykHyzBWh",
      "execution_count": null,
      "outputs": [
        {
          "output_type": "stream",
          "name": "stdout",
          "text": [
            "Odd numbers between 1 and 15:\n",
            "1\n",
            "3\n",
            "5\n",
            "7\n",
            "9\n",
            "11\n",
            "13\n",
            "15\n",
            "Total of odd numbers: 64\n"
          ]
        }
      ]
    },
    {
      "cell_type": "markdown",
      "metadata": {
        "id": "SG5G0sL2uxuU"
      },
      "source": [
        "---"
      ],
      "id": "SG5G0sL2uxuU"
    },
    {
      "cell_type": "markdown",
      "metadata": {
        "id": "Pk4WN-VPuxuV"
      },
      "source": [
        "## 6. Repeating Actions with `while` Loops\n",
        "\n",
        "The `while` loop keeps executing a block of code *as long as* a specified condition remains `True`.\n",
        "\n",
        "**Use Case:** Use `while` when you don't know beforehand how many times you need to loop. You loop until some condition changes (e.g., waiting for user input, reaching a target value).\n",
        "\n",
        "**Syntax:**\n",
        "```python\n",
        "while condition:\n",
        "    # Code to execute as long as condition is True\n",
        "    # This block is indented\n",
        "    # IMPORTANT: Something inside the loop MUST eventually make the condition False,\n",
        "    # otherwise you'll have an infinite loop!\n",
        "```\n",
        "\n",
        "* `while`: Keyword to start the loop.\n",
        "* `condition`: An expression evaluated *before* each iteration. If `True`, the loop body runs. If `False`, the loop stops.\n",
        "* `:`: Colon marks the end of the `while` condition.\n",
        "* **Indentation**: The code block to be repeated must be indented."
      ],
      "id": "Pk4WN-VPuxuV"
    },
    {
      "cell_type": "markdown",
      "metadata": {
        "id": "A0SKauhRuxuV"
      },
      "source": [
        "**Example 6: Countdown**"
      ],
      "id": "A0SKauhRuxuV"
    },
    {
      "cell_type": "code",
      "execution_count": null,
      "metadata": {
        "id": "S8ACWnGouxuV"
      },
      "outputs": [],
      "source": [
        "count = 5\n",
        "\n",
        "print(\"Starting countdown...\")\n",
        "\n",
        "# Loop as long as 'count' is greater than 0\n",
        "while count > 0:\n",
        "    print(count)\n",
        "    # IMPORTANT: Modify the variable used in the condition!\n",
        "    # Decrease count by 1 in each iteration\n",
        "    count = count - 1 # Or shorthand: count -= 1\n",
        "\n",
        "# This line runs after the loop condition (count > 0) becomes False\n",
        "print(\"Blast off!\")"
      ],
      "id": "S8ACWnGouxuV"
    },
    {
      "cell_type": "markdown",
      "metadata": {
        "id": "owfiAKN3uxuV"
      },
      "source": [
        "**Warning: Infinite Loops**\n",
        "\n",
        "If the condition in a `while` loop *never* becomes `False`, the loop will run forever! This will freeze your program (in Jupyter, you might need to interrupt the kernel).\n",
        "\n",
        "```python\n",
        "# DANGER: INFINITE LOOP EXAMPLE - DO NOT RUN UNLESS YOU KNOW HOW TO STOP IT!\n",
        "# counter = 0\n",
        "# while counter < 5:\n",
        "#    print(\"Still looping...\")\n",
        "#    # Forgetting to increment counter means counter < 5 is ALWAYS True!\n",
        "#    # Need: counter += 1 here\n",
        "```"
      ],
      "id": "owfiAKN3uxuV"
    },
    {
      "cell_type": "markdown",
      "metadata": {
        "id": "KfWiYEiHuxuV"
      },
      "source": [
        "**Exercise 6: Keep Asking Until 'quit'**\n",
        "\n",
        "Write a `while` loop that keeps asking the user for input using `input(\"Enter command (or 'quit' to exit): \")`. The loop should continue until the user types exactly \"quit\". Print the command entered by the user in each iteration (unless it's \"quit\").\n",
        "\n",
        "*(Note: Running `input()` in a plain script pauses execution. In Jupyter, it shows an input box below the cell.)*"
      ],
      "id": "KfWiYEiHuxuV"
    },
    {
      "cell_type": "code",
      "execution_count": null,
      "metadata": {
        "id": "FFkJF-NhuxuW"
      },
      "outputs": [],
      "source": [
        "command = \"\" # Initialize command to something that isn't 'quit'\n",
        "\n",
        "# Loop as long as the command is not 'quit'\n",
        "while command != \"quit\":\n",
        "    command = input(\"Enter command (or 'quit' to exit): \")\n",
        "\n",
        "    # Only print the command if it's not 'quit'\n",
        "    if command != \"quit\":\n",
        "        print(f\"You entered: {command}\")\n",
        "    # The loop condition (command != \"quit\") will be checked again at the top\n",
        "\n",
        "print(\"\\nExiting program.\")"
      ],
      "id": "FFkJF-NhuxuW"
    },
    {
      "cell_type": "markdown",
      "metadata": {
        "id": "OQFJ90b8uxuW"
      },
      "source": [
        "## 7. Controlling `while` Loops with `break` and `continue`\n",
        "\n",
        "`break` and `continue` work in `while` loops exactly the same way they do in `for` loops:\n",
        "\n",
        "* `break`: Exits the `while` loop immediately.\n",
        "* `continue`: Skips the rest of the current iteration and goes back to check the `while` condition again."
      ],
      "id": "OQFJ90b8uxuW"
    },
    {
      "cell_type": "markdown",
      "metadata": {
        "id": "ikFTeYtpuxuW"
      },
      "source": [
        "**Example 7a: Using `break` in a `while True` Loop**\n",
        "\n",
        "Sometimes it's cleaner to create a loop that *looks* infinite (`while True:`) and use `break` inside an `if` statement to control when it exits. This is common for input loops."
      ],
      "id": "ikFTeYtpuxuW"
    },
    {
      "cell_type": "code",
      "execution_count": null,
      "metadata": {
        "id": "SDUnkx86uxuW"
      },
      "outputs": [],
      "source": [
        "print(\"Enter positive numbers. Enter 0 or negative to stop.\")\n",
        "total = 0\n",
        "\n",
        "while True: # Loop seemingly forever\n",
        "    try:\n",
        "        num_str = input(\"Enter a number: \")\n",
        "        num = int(num_str) # Convert input string to integer\n",
        "\n",
        "        if num <= 0:\n",
        "            print(\"Stopping input.\")\n",
        "            break # Exit the while True loop\n",
        "\n",
        "        # If we reach here, num is positive\n",
        "        print(f\"Adding {num}...\")\n",
        "        total += num\n",
        "        print(f\"Current total: {total}\")\n",
        "\n",
        "    except ValueError: # Handle cases where input is not a valid number\n",
        "        print(\"Invalid input. Please enter a whole number.\")\n",
        "\n",
        "# This runs after 'break' is executed\n",
        "print(f\"\\nFinal total of positive numbers: {total}\")"
      ],
      "id": "SDUnkx86uxuW"
    },
    {
      "cell_type": "markdown",
      "metadata": {
        "id": "uE9Yh1CauxuW"
      },
      "source": [
        "**Example 7b: Using `continue` in a `while` Loop**"
      ],
      "id": "uE9Yh1CauxuW"
    },
    {
      "cell_type": "code",
      "execution_count": null,
      "metadata": {
        "id": "kfCFF7REuxuW"
      },
      "outputs": [],
      "source": [
        "num = 0\n",
        "print(\"Printing odd numbers up to 9 using while and continue:\")\n",
        "\n",
        "while num < 10:\n",
        "    num += 1 # Increment first\n",
        "\n",
        "    if num % 2 == 0: # Check if the number is even\n",
        "        # If even, skip the print statement and start the next iteration\n",
        "        continue\n",
        "\n",
        "    # This print statement is skipped for even numbers because of 'continue'\n",
        "    print(num)\n",
        "\n",
        "print(\"Loop finished.\")"
      ],
      "id": "kfCFF7REuxuW"
    },
    {
      "cell_type": "markdown",
      "metadata": {
        "id": "enjIVQGMuxuW"
      },
      "source": [
        "**Exercise 7: Simple Guessing Game**\n",
        "\n",
        "Write a `while` loop that asks the user to guess a secret number (let's say `secret = 7`).\n",
        "* If the guess is correct, print \"You guessed it!\" and `break` the loop.\n",
        "* If the guess is incorrect, print \"Wrong, try again!\"\n",
        "* Make sure the user's input is converted to an integer using `int()`."
      ],
      "id": "enjIVQGMuxuW"
    },
    {
      "cell_type": "code",
      "execution_count": null,
      "metadata": {
        "id": "fWSmez66uxuX"
      },
      "outputs": [],
      "source": [
        "secret_number = 7\n",
        "guess = 0 # Initialize guess to something incorrect\n",
        "\n",
        "print(\"Guess the secret number (an integer)!\")\n",
        "\n",
        "while True: # We'll use break to exit\n",
        "    try:\n",
        "        guess_str = input(\"Enter your guess: \")\n",
        "        guess = int(guess_str)\n",
        "\n",
        "        # Your if/else logic here\n",
        "        if guess == secret_number:\n",
        "            # If guess equals secret_number, print success and break\n",
        "            print(\"You guessed it!\")\n",
        "            break\n",
        "        else:\n",
        "            # Else, print failure message\n",
        "            print(\"Wrong, try again!\")\n",
        "\n",
        "    except ValueError:\n",
        "        print(\"Invalid input. Please enter a whole number.\")\n",
        "        # Optional: use 'continue' here to skip the check below if input was bad\n",
        "        continue\n",
        "\n",
        "print(\"\\nGame over.\")"
      ],
      "id": "fWSmez66uxuX"
    },
    {
      "cell_type": "markdown",
      "source": [
        "### Group Activity: Number Guessing Game\n",
        "\n",
        "Modify the code above to do the following:\n",
        "\n",
        "- Generate a random secret number between 1 and 100.\n",
        "- Prompt the user to enter a guess.\n",
        "- Display a message indicating whether the guessed number is **higher** or **lower** than the secret number.\n",
        "- If the user guesses correctly, display a congratulatory message."
      ],
      "metadata": {
        "id": "GGkWoLGdzdhI"
      },
      "id": "GGkWoLGdzdhI"
    },
    {
      "cell_type": "code",
      "source": [
        "import random\n",
        "\n",
        "# Generate a random number between 1 and 100\n",
        "secret_number = random.randint(1, 100)\n",
        "\n",
        "print(\"Welcome to the Number Guessing Game!\")\n",
        "print(\"I'm thinking of a number between 1 and 100.\")\n",
        "\n",
        "# Allow the user up to 10 attempts\n",
        "attempts = 10\n",
        "\n",
        "# Loop while the user still has attempts left\n",
        "while attempts > 0:\n",
        "    # Ask the user to enter a guess and convert it to an integer\n",
        "    guess = int(input(\"Enter your guess: \"))\n",
        "\n",
        "    # Check if the guess is correct\n",
        "    if guess == secret_number:\n",
        "        print(\"Congratulations! You guessed the correct number.\")\n",
        "        break\n",
        "    elif guess < secret_number:\n",
        "        print(\"Too low! Try a higher number.\")\n",
        "    else:\n",
        "        print(\"Too high! Try a lower number.\")\n",
        "\n",
        "    # Decrement the number of attempts\n",
        "    attempts -= 1\n",
        "    print(f\"You have {attempts} attempts left.\\n\")\n",
        "\n",
        "# If the loop ends without a correct guess\n",
        "if attempts == 0:\n",
        "    print(f\"Sorry, you've run out of attempts. The number was {secret_number}.\")\n"
      ],
      "metadata": {
        "id": "jFmRQfDQ0N5d"
      },
      "id": "jFmRQfDQ0N5d",
      "execution_count": null,
      "outputs": []
    },
    {
      "cell_type": "markdown",
      "metadata": {
        "id": "zreKwiVLuxuX"
      },
      "source": [
        "## Group Activity: Fix the Loop Code!\n",
        "\n",
        "Work with your team. The following code block has errors related to `while` loops, `break`, or `continue`. Find the mistakes and fix them.\n",
        "\n",
        "**Goal:** The code should print numbers from 10 down to 1, but skip printing the number 5."
      ],
      "id": "zreKwiVLuxuX"
    },
    {
      "cell_type": "code",
      "execution_count": null,
      "metadata": {
        "tags": [],
        "colab": {
          "base_uri": "https://localhost:8080/",
          "height": 106
        },
        "id": "G81pGPcpuxuX",
        "outputId": "d50bc497-2d61-4a4c-b522-4fce78cd6814"
      },
      "outputs": [
        {
          "output_type": "error",
          "ename": "SyntaxError",
          "evalue": "invalid syntax. Maybe you meant '==' or ':=' instead of '='? (<ipython-input-7-8ac3f855d45f>, line 6)",
          "traceback": [
            "\u001b[0;36m  File \u001b[0;32m\"<ipython-input-7-8ac3f855d45f>\"\u001b[0;36m, line \u001b[0;32m6\u001b[0m\n\u001b[0;31m    if counter = 5:  # Is '=' the correct operator for comparison?\u001b[0m\n\u001b[0m       ^\u001b[0m\n\u001b[0;31mSyntaxError\u001b[0m\u001b[0;31m:\u001b[0m invalid syntax. Maybe you meant '==' or ':=' instead of '='?\n"
          ]
        }
      ],
      "source": [
        "counter = 10\n",
        "\n",
        "# Incorrect condition, comparison uses '=', wrong control flow, missing decrement\n",
        "while counter < 0:  # Is this condition correct for counting down from 10?\n",
        "    print(counter)\n",
        "    if counter = 5:  # Is '=' the correct operator for comparison?\n",
        "        break  # Should we break or skip when counter is 5?\n",
        "\n",
        "    # Need to decrease the counter here!"
      ],
      "id": "G81pGPcpuxuX"
    },
    {
      "cell_type": "markdown",
      "source": [
        "# **Corrected Group Activity Code**"
      ],
      "metadata": {
        "id": "foArtzlw1JW2"
      },
      "id": "foArtzlw1JW2"
    },
    {
      "cell_type": "code",
      "source": [
        "# Print a heading to indicate the purpose of the program\n",
        "print(\"Counting down from 10, skipping 5:\")\n",
        "\n",
        "# Start the counter at 10\n",
        "counter = 10\n",
        "\n",
        "# Loop as long as the counter is greater than 0\n",
        "while counter > 0:\n",
        "    # If the counter is 5, skip it\n",
        "    if counter == 5:\n",
        "        counter -= 1  # Still need to decrement\n",
        "        continue      # Skip printing 5\n",
        "\n",
        "    # Print the current number\n",
        "    print(counter)\n",
        "\n",
        "    # Decrement the counter by 1\n",
        "    counter -= 1\n",
        "\n",
        "# Print the final message\n",
        "print(\"Finished!\")\n"
      ],
      "metadata": {
        "id": "8yDh69MH1AsH"
      },
      "id": "8yDh69MH1AsH",
      "execution_count": null,
      "outputs": []
    },
    {
      "cell_type": "markdown",
      "metadata": {
        "id": "EGXr0T3zuxuX"
      },
      "source": [
        "---"
      ],
      "id": "EGXr0T3zuxuX"
    },
    {
      "cell_type": "markdown",
      "metadata": {
        "id": "DFOVnIxHuxuY"
      },
      "source": [
        "## 8. Basic Functions: Reusable Code Blocks\n",
        "\n",
        "Imagine you have a piece of code that you need to use multiple times in your program (e.g., printing a welcome message, calculating an area). Instead of copying and pasting it, you can define a **function**.\n",
        "\n",
        "A function is a named block of code that performs a specific task. You can **call** (run) the function by its name whenever you need it.\n",
        "\n",
        "**Why use functions?**\n",
        "* **DRY (Don't Repeat Yourself):** Write the code once, use it many times.\n",
        "* **Organization:** Breaks down complex programs into smaller, manageable parts.\n",
        "* **Readability:** Well-named functions make code easier to understand.\n",
        "* **Reusability:** Functions can be reused in different parts of your program or even in other programs.\n",
        "\n",
        "**Defining a Simple Function (No Arguments):**\n",
        "\n",
        "**Syntax:**\n",
        "```python\n",
        "# Use 'def' to define a function\n",
        "def function_name():\n",
        "    # Code block for the function\n",
        "    # Must be indented\n",
        "    print(\"This code is inside the function.\")\n",
        "    # More code...\n",
        "\n",
        "# To run the function, you call it by its name followed by parentheses\n",
        "function_name()\n",
        "```\n",
        "\n",
        "* `def`: Keyword to signal you are defining a function.\n",
        "* `function_name`: Choose a descriptive name (use `snake_case` - lowercase words separated by underscores, like `print_welcome_message`).\n",
        "* `()`: Parentheses are required. For now, they are empty because this function doesn't take any input information.\n",
        "* `:`: Colon marks the end of the function definition line.\n",
        "* **Indentation**: The code that belongs to the function must be indented.\n",
        "* **Calling the function**: To execute the code inside the function, you write its name followed by parentheses: `function_name()`."
      ],
      "id": "DFOVnIxHuxuY"
    },
    {
      "cell_type": "markdown",
      "metadata": {
        "id": "GlKTet9buxuZ"
      },
      "source": [
        "**Example 8a: A Simple Greeting Function**"
      ],
      "id": "GlKTet9buxuZ"
    },
    {
      "cell_type": "code",
      "execution_count": null,
      "metadata": {
        "id": "eRlP5UibuxuZ"
      },
      "outputs": [],
      "source": [
        "# Step 1: Define the function\n",
        "def say_hello():\n",
        "    \"\"\"This is a docstring - it explains what the function does.\"\"\"\n",
        "    print(\"---------------------\")\n",
        "    print(\"Hello there!\")\n",
        "    print(\"Welcome to the program.\")\n",
        "    print(\"---------------------\")\n",
        "\n",
        "# The code inside say_hello() does NOT run when defined.\n",
        "# It only runs when we CALL the function.\n",
        "\n",
        "print(\"Calling the function for the first time:\")\n",
        "say_hello() # Execute the code inside say_hello\n",
        "\n",
        "print(\"\\nDoing some other stuff...\")\n",
        "# some_other_variable = 100\n",
        "\n",
        "print(\"\\nCalling the function again:\")\n",
        "say_hello() # Execute the same code block again"
      ],
      "id": "eRlP5UibuxuZ"
    },
    {
      "cell_type": "markdown",
      "metadata": {
        "id": "vAorwILOuxuZ"
      },
      "source": [
        "**Best Practice: Docstrings**\n",
        "\n",
        "See the text enclosed in triple quotes (`\"\"\"Docstring goes here\"\"\"`) right after the `def` line? That's called a **docstring**. It's a standard way to document what your function does. Good programmers always include docstrings!"
      ],
      "id": "vAorwILOuxuZ"
    },
    {
      "cell_type": "markdown",
      "metadata": {
        "id": "1i__9-Z4uxua"
      },
      "source": [
        "**Example 8b: Function to Display a Menu**"
      ],
      "id": "1i__9-Z4uxua"
    },
    {
      "cell_type": "code",
      "execution_count": null,
      "metadata": {
        "id": "9vcaYRQ1uxua"
      },
      "outputs": [],
      "source": [
        "def show_options():\n",
        "    \"\"\"Displays the main menu options.\"\"\"\n",
        "    print(\"\\n=== MENU ===\")\n",
        "    print(\"1. Start New Game\")\n",
        "    print(\"2. Load Game\")\n",
        "    print(\"3. Settings\")\n",
        "    print(\"4. Exit\")\n",
        "    print(\"============\")\n",
        "\n",
        "# Show the menu\n",
        "show_options()\n",
        "\n",
        "# Imagine getting user input here...\n",
        "# choice = input(\"Enter choice: \")\n",
        "\n",
        "# Maybe show the menu again later\n",
        "# print(\"Invalid choice, showing menu again:\")\n",
        "# show_options()"
      ],
      "id": "9vcaYRQ1uxua"
    },
    {
      "cell_type": "markdown",
      "metadata": {
        "id": "mZ8k5Cwquxua"
      },
      "source": [
        "**Exercise 8: Simple Pattern**\n",
        "\n",
        "Define a function called `draw_separator` that prints a line of 20 dashes (`-`) to act as a visual separator in the output. Then, call the function twice."
      ],
      "id": "mZ8k5Cwquxua"
    },
    {
      "cell_type": "code",
      "execution_count": null,
      "metadata": {
        "id": "KBhHiDRRuxua"
      },
      "outputs": [],
      "source": [
        "# Define the function draw_separator here\n"
      ],
      "id": "KBhHiDRRuxua"
    },
    {
      "cell_type": "markdown",
      "metadata": {
        "id": "pY9hUak9uxua"
      },
      "source": [
        "## 9. Functions with Arguments\n",
        "\n",
        "Functions become much more powerful when you can pass information *into* them. This input information is called **arguments** (when you call the function) or **parameters** (when you define the function).\n",
        "\n",
        "**Syntax:**\n",
        "```python\n",
        "# Define a function that accepts parameters (inputs)\n",
        "def function_name(parameter1, parameter2):\n",
        "    # Indented code block\n",
        "    # You can use parameter1 and parameter2 like variables inside the function\n",
        "    print(f\"Received parameter 1: {parameter1}\")\n",
        "    print(f\"Received parameter 2: {parameter2}\")\n",
        "    # Do something with the parameters...\n",
        "\n",
        "# Call the function, providing arguments (values) for the parameters\n",
        "function_name(argument1, argument2)\n",
        "# The value of argument1 gets assigned to parameter1\n",
        "# The value of argument2 gets assigned to parameter2\n",
        "```\n",
        "\n",
        "* **Parameters**: Variables listed inside the parentheses in the function definition (`def`). They act as placeholders for the values that will be passed in when the function is called.\n",
        "* **Arguments**: The actual values you provide inside the parentheses when you *call* the function. These values are assigned to the corresponding parameters."
      ],
      "id": "pY9hUak9uxua"
    },
    {
      "cell_type": "markdown",
      "metadata": {
        "id": "3lNOuIxvuxua"
      },
      "source": [
        "**Example 9a: Greeting a Specific Person**"
      ],
      "id": "3lNOuIxvuxua"
    },
    {
      "cell_type": "code",
      "execution_count": null,
      "metadata": {
        "id": "Jsa5nHFmuxub"
      },
      "outputs": [],
      "source": [
        "# Define a function that takes one parameter: 'name'\n",
        "def greet_person(name):\n",
        "    \"\"\"Greets the person whose name is passed as an argument.\"\"\"\n",
        "    print(f\"Hello, {name}!\")\n",
        "    print(\"Nice to meet you.\")\n",
        "\n",
        "# Call the function with different arguments\n",
        "print(\"Greeting Alice:\")\n",
        "greet_person(\"Alice\") # \"Alice\" is the argument, assigned to the 'name' parameter\n",
        "\n",
        "print(\"\\nGreeting Bob:\")\n",
        "user_name = \"Bob\"\n",
        "greet_person(user_name) # You can pass variables as arguments too!"
      ],
      "id": "Jsa5nHFmuxub"
    },
    {
      "cell_type": "markdown",
      "metadata": {
        "id": "jDpUhitRuxub"
      },
      "source": [
        "**Example 9b: Adding Two Numbers**"
      ],
      "id": "jDpUhitRuxub"
    },
    {
      "cell_type": "code",
      "execution_count": null,
      "metadata": {
        "id": "uHYdKm_luxub"
      },
      "outputs": [],
      "source": [
        "# Define a function that takes two parameters: 'num1', 'num2'\n",
        "def add_numbers(num1, num2):\n",
        "    \"\"\"Calculates and prints the sum of two numbers.\"\"\"\n",
        "    the_sum = num1 + num2\n",
        "    print(f\"The sum of {num1} and {num2} is: {the_sum}\")\n",
        "\n",
        "# Call the function with different arguments\n",
        "add_numbers(5, 3)   # 5 is assigned to num1, 3 is assigned to num2\n",
        "add_numbers(10, -2) # 10 is assigned to num1, -2 is assigned to num2\n",
        "\n",
        "x = 100\n",
        "y = 50\n",
        "add_numbers(x, y)   # The value of x (100) is assigned to num1\n",
        "                    # The value of y (50) is assigned to num2"
      ],
      "id": "uHYdKm_luxub"
    },
    {
      "cell_type": "markdown",
      "metadata": {
        "id": "_aa_Bwkpuxub"
      },
      "source": [
        "**Example 9c: Calculating Rectangle Area**"
      ],
      "id": "_aa_Bwkpuxub"
    },
    {
      "cell_type": "code",
      "execution_count": null,
      "metadata": {
        "id": "ltBMzTyxuxub"
      },
      "outputs": [],
      "source": [
        "def calculate_rectangle_area(length, width):\n",
        "    \"\"\"Calculates and prints the area of a rectangle.\"\"\"\n",
        "    if length > 0 and width > 0:\n",
        "        area = length * width\n",
        "        print(f\"The area of a rectangle with length {length} and width {width} is {area}.\")\n",
        "    else:\n",
        "        print(\"Length and width must be positive numbers.\")\n",
        "\n",
        "# Call with valid dimensions\n",
        "calculate_rectangle_area(10, 5)\n",
        "\n",
        "# Call with invalid dimensions\n",
        "calculate_rectangle_area(8, 0)"
      ],
      "id": "ltBMzTyxuxub"
    },
    {
      "cell_type": "markdown",
      "metadata": {
        "id": "UPl5DWcDuxub"
      },
      "source": [
        "**Exercise 9a: Personalized Farewell**\n",
        "\n",
        "Define a function called `say_goodbye` that takes one parameter, `user_name`. The function should print a farewell message like \"Goodbye, [user_name]! See you soon.\". Call the function with two different names."
      ],
      "id": "UPl5DWcDuxub"
    },
    {
      "cell_type": "code",
      "execution_count": null,
      "metadata": {
        "id": "DWuiWzeQuxub"
      },
      "outputs": [],
      "source": [
        "# Define the say_goodbye function here\n"
      ],
      "id": "DWuiWzeQuxub"
    },
    {
      "cell_type": "markdown",
      "metadata": {
        "id": "t_1yBuTMuxuc"
      },
      "source": [
        "**Exercise 9b: Simple Multiplication**\n",
        "\n",
        "Define a function called `multiply_numbers` that takes two parameters, `a` and `b`. The function should print the result of multiplying `a` by `b`. Call the function with a few different pairs of numbers."
      ],
      "id": "t_1yBuTMuxuc"
    },
    {
      "cell_type": "code",
      "execution_count": null,
      "metadata": {
        "id": "W6t-hbjOuxuc"
      },
      "outputs": [],
      "source": [
        "# Define the multiply_numbers function here\n"
      ],
      "id": "W6t-hbjOuxuc"
    },
    {
      "cell_type": "markdown",
      "metadata": {
        "id": "JjurOXrtuxud"
      },
      "source": [
        "## Day 2 Summary\n",
        "\n",
        "Great job today! We covered a lot of essential concepts:\n",
        "\n",
        "* **Conditional Statements (`if`, `elif`, `else`):** Allowed our programs to make decisions based on conditions.\n",
        "* **`for` Loops:** Used to iterate over sequences (lists, strings, `range`).\n",
        "* **`while` Loops:** Used to repeat code as long as a condition is true.\n",
        "* **Loop Control (`break`, `continue`):** Gave us fine-grained control over loop execution.\n",
        "* **Functions (`def`):** Allowed us to define reusable blocks of code, making our programs more organized and efficient.\n",
        "* **Function Arguments/Parameters:** Enabled us to pass data into functions.\n",
        "* **Best Practices:** We emphasized clear naming, indentation, comments, and docstrings.\n",
        "\n",
        "These control flow structures and functions are fundamental building blocks for almost any program you will write. Practice them, experiment, and don't be afraid to make mistakes – that's how we learn!\n",
        "\n",
        "**Next time:** We'll look at more complex data structures like lists in more detail, and maybe functions that *return* values."
      ],
      "id": "JjurOXrtuxud"
    }
  ],
  "metadata": {
    "kernelspec": {
      "display_name": "Python 3 (ipykernel)",
      "language": "python",
      "name": "python3"
    },
    "language_info": {
      "codemirror_mode": {
        "name": "ipython",
        "version": 3
      },
      "file_extension": ".py",
      "mimetype": "text/x-python",
      "name": "python",
      "nbconvert_exporter": "python",
      "pygments_lexer": "ipython3",
      "version": "3.9.7"
    },
    "colab": {
      "provenance": []
    }
  },
  "nbformat": 4,
  "nbformat_minor": 5
}