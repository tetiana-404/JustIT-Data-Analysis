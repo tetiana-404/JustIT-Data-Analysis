{
  "cells": [
    {
      "cell_type": "markdown",
      "metadata": {
        "id": "En3BE8mi8ZHY"
      },
      "source": [
        "# Day 1: Python Basics\n",
        "\n",
        "Welcome to your first day of learning Python! This notebook covers the fundamentals needed to start writing basic Python programs, including group activities to help you debug common errors.\n",
        "\n",
        "**Goals for Today:**\n",
        "* Use the `print()` function for output.\n",
        "* Get user input with the `input()` function.\n",
        "* Understand and use variables and basic data types (`int`, `float`, `str`, `bool`).\n",
        "* Learn about escape characters (like `\\n`, `\\t`) using the backslash `\\`.\n",
        "* Perform calculations using mathematical operators.\n",
        "* **Distinguish between string concatenation (`+`) and using commas (`,`) in `print()`**.\n",
        "* Understand and apply basic PEP 8 naming conventions.\n",
        "* Explore basic data structures: Lists, Tuples, and Dictionaries, including their features and common methods.\n",
        "* Practice writing clean, commented code.\n",
        "* Debug common errors in group activities."
      ]
    },
    {
      "cell_type": "markdown",
      "metadata": {
        "id": "rLNnstdH8ZHZ"
      },
      "source": [
        "## 1. The `print()` Function: Displaying Output\n",
        "\n",
        "The `print()` function displays information (text, numbers, etc.) to the screen.\n",
        "\n",
        "**Syntax:** `print(value1, value2, ...)`\n",
        "\n",
        "Text (strings) must be enclosed in quotes (`\"` or `'`). Multiple items are separated by spaces by default."
      ]
    },
    {
      "cell_type": "code",
      "source": [
        "!python --version"
      ],
      "metadata": {
        "colab": {
          "base_uri": "https://localhost:8080/"
        },
        "id": "hTrnQlCjzLyv",
        "outputId": "459010c3-27a3-42ee-f5b3-3dd98737e185"
      },
      "execution_count": 2,
      "outputs": [
        {
          "output_type": "stream",
          "name": "stdout",
          "text": [
            "Python 3.11.12\n"
          ]
        }
      ]
    },
    {
      "cell_type": "code",
      "execution_count": 3,
      "metadata": {
        "id": "dDwn4LJy8ZHZ",
        "colab": {
          "base_uri": "https://localhost:8080/"
        },
        "outputId": "d81cc2e2-fdc4-4698-d9f8-587f415425e2"
      },
      "outputs": [
        {
          "output_type": "stream",
          "name": "stdout",
          "text": [
            "Hello, Python Learners!\n",
            "2025\n",
            "Learning Python in 2025 is fun! True\n"
          ]
        }
      ],
      "source": [
        "# Example 1.1: Printing text\n",
        "print(\"Hello, Python Learners!\")\n",
        "\n",
        "# Example 1.2: Printing numbers\n",
        "print(2025)\n",
        "\n",
        "# Example 1.3: Printing multiple items\n",
        "print(\"Learning Python in\", 2025, \"is fun!\", True)"
      ]
    },
    {
      "cell_type": "markdown",
      "metadata": {
        "id": "SbzM7zS78ZHa"
      },
      "source": [
        "**Best Practice: Comments**\n",
        "Lines starting with `#` are comments. Python ignores them. Use comments to explain your code!"
      ]
    },
    {
      "cell_type": "markdown",
      "metadata": {
        "id": "s-VkyX0A8ZHa"
      },
      "source": [
        "**Exercise 1:**\n",
        "Use the `print()` function to:\n",
        "1. Print your name.\n",
        "2. Print the current year (e.g., 2025).\n",
        "3. Print your name and the current year on the same line."
      ]
    },
    {
      "cell_type": "code",
      "execution_count": null,
      "metadata": {
        "id": "ggFRnLy78ZHa"
      },
      "outputs": [],
      "source": [
        "# Exercise 1 Code Cell\n"
      ]
    },
    {
      "cell_type": "markdown",
      "source": [
        "# Mounting Google Drive"
      ],
      "metadata": {
        "id": "XwRqHe-J3KuE"
      }
    },
    {
      "cell_type": "code",
      "source": [
        "from google.colab import drive\n",
        "drive.mount('/content/drive')"
      ],
      "metadata": {
        "colab": {
          "base_uri": "https://localhost:8080/"
        },
        "id": "RzbP3Kfx3JSn",
        "outputId": "06b59254-65c4-42c6-e0b6-fa6569f61337"
      },
      "execution_count": null,
      "outputs": [
        {
          "output_type": "stream",
          "name": "stdout",
          "text": [
            "Mounted at /content/drive\n"
          ]
        }
      ]
    },
    {
      "cell_type": "markdown",
      "metadata": {
        "id": "I_gr9dZF8ZHa"
      },
      "source": [
        "## 2. The `input()` Function: Getting User Input\n",
        "\n",
        "The `input()` function pauses the program and waits for the user to type something and press Enter.\n",
        "\n",
        "**Important:** `input()` *always* returns the input as a **string**.\n",
        "\n",
        "**Syntax:** `variable_name = input(\"Prompt message: \")`"
      ]
    },
    {
      "cell_type": "code",
      "execution_count": null,
      "metadata": {
        "id": "P_kBRPxx8ZHa",
        "colab": {
          "base_uri": "https://localhost:8080/"
        },
        "outputId": "c0d35d52-c737-4f92-b499-b4ccf1e05077"
      },
      "outputs": [
        {
          "output_type": "stream",
          "name": "stdout",
          "text": [
            "What is your name? Ali\n",
            "Nice to meet you, Ali !\n",
            "How old are you? 35\n",
            "You mentioned your age is: 35\n",
            "The type of user_age_str is: <class 'str'>\n"
          ]
        }
      ],
      "source": [
        "# Example 2.1: Getting user's name\n",
        "user_name = input(\"What is your name? \")\n",
        "print(\"Nice to meet you,\", user_name, \"!\")\n",
        "\n",
        "# Example 2.2: Getting user's age (as a string!)\n",
        "user_age_str = input(\"How old are you? \")\n",
        "print(\"You mentioned your age is:\", user_age_str)\n",
        "print(\"The type of user_age_str is:\", type(user_age_str)) # Notice it's <class 'str'>"
      ]
    },
    {
      "cell_type": "markdown",
      "metadata": {
        "id": "EWsQB0ko8ZHb"
      },
      "source": [
        "**Exercise 2:**\n",
        "1. Ask the user for their favorite programming language.\n",
        "2. Print a message back to the user incorporating their answer, like \"[Language] is a great choice!\"."
      ]
    },
    {
      "cell_type": "code",
      "execution_count": null,
      "metadata": {
        "id": "9q6RKa4H8ZHb"
      },
      "outputs": [],
      "source": [
        "# Exercise 2 Code Cell\n"
      ]
    },
    {
      "cell_type": "markdown",
      "metadata": {
        "id": "EMjY-5xt8ZHb"
      },
      "source": [
        "## 3. Variables and Basic Data Types\n",
        "\n",
        "**Variables** are names used to store data values. Use the assignment operator (`=`) to assign a value to a variable.\n",
        "\n",
        "**Basic Data Types:**\n",
        "* **`int`**: Integers (e.g., `10`, `-3`, `0`).\n",
        "* **`float`**: Floating-point numbers (e.g., `3.14`, `-0.5`, `10.0`).\n",
        "* **`str`**: Strings (text), in quotes (e.g., `\"Hello\"`, `'Python'`).\n",
        "* **`bool`**: Booleans (`True` or `False`).\n",
        "\n",
        "Use `type()` to check a variable's data type."
      ]
    },
    {
      "cell_type": "code",
      "execution_count": 13,
      "metadata": {
        "id": "d4ncvTbS8ZHb",
        "colab": {
          "base_uri": "https://localhost:8080/"
        },
        "outputId": "9dda2f50-49b2-439e-d077-38a2272092ff"
      },
      "outputs": [
        {
          "output_type": "stream",
          "name": "stdout",
          "text": [
            "Python Beginners <class 'str'>\n",
            "1 <class 'int'>\n",
            "4.9 <class 'float'>\n",
            "True <class 'bool'>\n"
          ]
        }
      ],
      "source": [
        "# Example 3.1: Creating variables\n",
        "course_name = \"Python Beginners\"\n",
        "day_number = 1\n",
        "course_rating = 4.9\n",
        "is_interactive = True\n",
        "\n",
        "print(course_name, type(course_name))\n",
        "print(day_number, type(day_number))\n",
        "print(course_rating, type(course_rating))\n",
        "print(is_interactive, type(is_interactive))"
      ]
    },
    {
      "cell_type": "markdown",
      "metadata": {
        "id": "VIQqTnBM8ZHb"
      },
      "source": [
        "**Exercise 3:**\n",
        "1. Create a variable `city` storing the name of your city (string).\n",
        "2. Create a variable `temperature` storing the current temperature as a decimal number (float).\n",
        "3. Create a variable `is_raining` storing `True` or `False` (boolean).\n",
        "4. Print the value and type of each variable."
      ]
    },
    {
      "cell_type": "code",
      "execution_count": null,
      "metadata": {
        "id": "3Y_mPrhJ8ZHb"
      },
      "outputs": [],
      "source": [
        "# Exercise 3 Code Cell\n"
      ]
    },
    {
      "cell_type": "markdown",
      "metadata": {
        "id": "87zZgD8G8ZHb"
      },
      "source": [
        "### ✨ Group Debugging Activity 1: Input & Types ✨\n",
        "\n",
        "**Instructions:**\n",
        "1. Read the code below. It intends to ask the user for two numbers, add them, and print the result.\n",
        "2. Run the code and observe the error or incorrect output.\n",
        "3. Discuss in your group: What is causing the problem? (Hint: Think about the `input()` function).\n",
        "4. In the empty cell below, write the corrected code."
      ]
    },
    {
      "cell_type": "code",
      "execution_count": null,
      "metadata": {
        "id": "Td_TnZI18ZHb"
      },
      "outputs": [],
      "source": [
        "# Buggy Code 1: Adding numbers from input\n",
        "\n",
        "print(\"--- Number Adder ---\")\n",
        "num1_str = input(\"Enter the first number: \")\n",
        "num2_str = input(\"Enter the second number: \")\n",
        "\n",
        "# This code intends to add the two numbers numerically\n",
        "sum_result = num1_str + num2_str\n",
        "\n",
        "print(\"The sum is:\", sum_result)\n",
        "print(\"(Is this the result you expected? Why/Why not?)\")"
      ]
    },
    {
      "cell_type": "code",
      "execution_count": null,
      "metadata": {
        "id": "A_6mlRro8ZHb"
      },
      "outputs": [],
      "source": [
        "# Corrected Code 1 Cell\n",
        "# Write your corrected code here\n"
      ]
    },
    {
      "cell_type": "markdown",
      "metadata": {
        "id": "-BiiDGoD8ZHb"
      },
      "source": [
        "## 4. Escape Characters (Using Backslash `\\`)\n",
        "\n",
        "The backslash `\\` is used inside strings to create \"escape sequences\", which represent special characters that are hard to type directly.\n",
        "\n",
        "Common Escape Sequences:\n",
        "* `\\n`: Newline - Moves the cursor to the next line.\n",
        "* `\\t`: Tab - Inserts a horizontal tab space.\n",
        "* `\\\\`: Backslash - Inserts a literal backslash character.\n",
        "* `\\'`: Single Quote - Inserts a literal single quote inside a string defined with single quotes.\n",
        "* `\\\"`: Double Quote - Inserts a literal double quote inside a string defined with double quotes."
      ]
    },
    {
      "cell_type": "code",
      "execution_count": 19,
      "metadata": {
        "id": "-jCHxm5L8ZHb",
        "colab": {
          "base_uri": "https://localhost:8080/"
        },
        "outputId": "9b82df26-2ae9-45b9-8add-84778eb32728"
      },
      "outputs": [
        {
          "output_type": "stream",
          "name": "stdout",
          "text": [
            "Hello\n",
            "World!\n",
            "Column1\tColumn2\n",
            "This is a file path: C:\\Users\\YourName\n",
            "She said, 'Hello!'\n",
            "He replied, \"Hi there!\"\n",
            "She said, 'Hello!'\n",
            "He replied, \"Hi there!\"\n"
          ]
        }
      ],
      "source": [
        "# Example 4.1: Newline and Tab\n",
        "print(\"Hello\\nWorld!\") # \\n creates a line break\n",
        "print(\"Column1\\tColumn2\") # \\t creates a tab space\n",
        "\n",
        "# Example 4.2: Literal Backslash\n",
        "print(\"This is a file path: C:\\\\Users\\\\YourName\") # Need \\\\ to print a single \\\n",
        "\n",
        "# Example 4.3: Quotes within strings\n",
        "print('She said, \\'Hello!\\'') # Using \\' inside single quotes\n",
        "print(\"He replied, \\\"Hi there!\\\"\") # Using \\\" inside double quotes\n",
        "# Easier way for quotes:\n",
        "print(\"She said, 'Hello!'\") # Use opposite quote types\n",
        "print('He replied, \"Hi there!\"')"
      ]
    },
    {
      "cell_type": "markdown",
      "metadata": {
        "id": "88X_SCz28ZHc"
      },
      "source": [
        "**Exercise 4:**\n",
        "Using `print()` and escape characters, print the following output exactly as shown (across three lines):\n",
        "```\n",
        "Languages:\n",
        "\tPython\n",
        "\tJava\n",
        "Path: C:\\\\Program Files\n",
        "```"
      ]
    },
    {
      "cell_type": "code",
      "execution_count": null,
      "metadata": {
        "id": "2fkGAs-r8ZHc"
      },
      "outputs": [],
      "source": [
        "# Exercise 4 Code Cell\n"
      ]
    },
    {
      "cell_type": "markdown",
      "metadata": {
        "id": "01YXxqHx8ZHc"
      },
      "source": [
        "## 5. Mathematical Operators\n",
        "\n",
        "Python supports standard mathematical operations:\n",
        "\n",
        "* `+`: Addition\n",
        "* `-`: Subtraction\n",
        "* `*`: Multiplication\n",
        "* `/`: True Division (results in a float, e.g., `10 / 4 = 2.5`)\n",
        "* `//`: Floor Division (discards remainder, results in int if both operands are int, e.g., `10 // 4 = 2`)\n",
        "* `%`: Modulo (remainder of division, e.g., `10 % 4 = 2`)\n",
        "* `**`: Exponentiation (power, e.g., `2 ** 3 = 8`)\n",
        "\n",
        "Parentheses `()` can be used to control the order of operations."
      ]
    },
    {
      "cell_type": "code",
      "execution_count": 21,
      "metadata": {
        "id": "rdhzYaU38ZHc",
        "colab": {
          "base_uri": "https://localhost:8080/"
        },
        "outputId": "37b6fa4d-1019-4cdc-8018-b7ce02d6fce0"
      },
      "outputs": [
        {
          "output_type": "stream",
          "name": "stdout",
          "text": [
            "15 + 2 = 17\n",
            "15 - 2 = 13\n",
            "15 * 2 = 30\n",
            "15 / 2 = 7.5\n",
            "15 // 2 = 7\n",
            "15 % 2 = 1\n",
            "2 ** 4 = 16\n",
            "10 + 2 * 3 = 16\n",
            "(10 + 2) * 3 = 36\n"
          ]
        }
      ],
      "source": [
        "# Example 5.1: Basic operations\n",
        "a = 15\n",
        "b = 2\n",
        "\n",
        "print(f\"{a} + {b} = {a + b}\") # Using f-strings for formatted output\n",
        "print(f\"{a} - {b} = {a - b}\")\n",
        "print(f\"{a} * {b} = {a * b}\")\n",
        "print(f\"{a} / {b} = {a / b}\") # True division\n",
        "print(f\"{a} // {b} = {a // b}\") # Floor division\n",
        "print(f\"{a} % {b} = {a % b}\") # Modulo (remainder)\n",
        "print(f\"2 ** 4 = {2 ** 4}\") # Exponentiation\n",
        "\n",
        "# Example 5.2: Order of operations\n",
        "result1 = 10 + 2 * 3 # Multiplication first: 10 + 6 = 16\n",
        "result2 = (10 + 2) * 3 # Parentheses first: 12 * 3 = 36\n",
        "print(\"10 + 2 * 3 =\", result1)\n",
        "print(\"(10 + 2) * 3 =\", result2)"
      ]
    },
    {
      "cell_type": "markdown",
      "metadata": {
        "id": "qgw6oHut8ZHc"
      },
      "source": [
        "**Exercise 5:**\n",
        "1. Calculate the area of a rectangle with width `w = 5.5` and height `h = 3.25`. Print the result.\n",
        "2. Calculate `3` raised to the power of `4`. Print the result.\n",
        "3. Calculate the remainder when `25` is divided by `7`. Print the result."
      ]
    },
    {
      "cell_type": "code",
      "execution_count": null,
      "metadata": {
        "id": "s_7NP1Gc8ZHc"
      },
      "outputs": [],
      "source": [
        "# Exercise 5 Code Cell\n",
        "w = 5.5\n",
        "h = 3.25\n"
      ]
    },
    {
      "cell_type": "markdown",
      "metadata": {
        "id": "ixBValfK8ZHc"
      },
      "source": [
        "## 5a. Concatenation (`+`) vs. Comma (`,`) in `print()`\n",
        "\n",
        "We've seen `+` used for math. It can also be used with strings, but it behaves differently than the comma `,` inside the `print()` function.\n",
        "\n",
        "**String Concatenation (`+`):**\n",
        "* Joins two strings together into one new string.\n",
        "* **Requires BOTH operands to be strings.** You cannot directly concatenate a string and a number.\n",
        "* You need to explicitly convert numbers to strings using `str()` before concatenating.\n",
        "* Does **not** automatically add spaces.\n",
        "\n",
        "**Comma (`,`) within `print()`:**\n",
        "* Tells `print()` to handle multiple items separately.\n",
        "* Can accept items of **different data types** (strings, numbers, booleans, etc.).\n",
        "* `print()` automatically converts each item to its string representation before printing.\n",
        "* Automatically inserts a **space** between items by default."
      ]
    },
    {
      "cell_type": "code",
      "execution_count": null,
      "metadata": {
        "id": "1XavXXKR8ZHc"
      },
      "outputs": [],
      "source": [
        "# Example 5a.1: String Concatenation (+)\n",
        "str1 = \"Hello\"\n",
        "str2 = \"World\"\n",
        "greeting = str1 + \" \" + str2 + \"!\" # Need to add spaces manually\n",
        "print(greeting)\n",
        "\n",
        "# Example 5a.2: Concatenation requires strings\n",
        "item = \"Apples\"\n",
        "count = 5\n",
        "# print(item + \" count: \" + count) # This causes a TypeError!\n",
        "# Corrected using str():\n",
        "print(item + \" count: \" + str(count))\n",
        "\n",
        "# Example 5a.3: Using Comma (,) in print()\n",
        "print(item, \"count:\", count) # Comma handles mixed types and adds spaces\n"
      ]
    },
    {
      "cell_type": "markdown",
      "metadata": {
        "id": "Kfo16P4n8ZHc"
      },
      "source": [
        "**Exercise 5a:**\n",
        "1. Create a variable `product_name` with a string value (e.g., \"Laptop\").\n",
        "2. Create a variable `product_price` with a float value (e.g., 1200.50).\n",
        "3. **Using string concatenation (`+`) and `str()`:** Print a sentence like \"Product: Laptop Price: $1200.5\". Make sure to include spaces and the dollar sign.\n",
        "4. **Using commas (`,`) within `print()`:** Print the same information (product name and price), letting `print()` handle the spacing and types. Observe the difference in your code."
      ]
    },
    {
      "cell_type": "code",
      "execution_count": null,
      "metadata": {
        "id": "YPpgKKjG8ZHc"
      },
      "outputs": [],
      "source": [
        "# Exercise 5a Code Cell\n"
      ]
    },
    {
      "cell_type": "markdown",
      "metadata": {
        "id": "LDQvHS-98ZHd"
      },
      "source": [
        "## 6. Naming Conventions (PEP 8)\n",
        "\n",
        "**PEP 8** is the official style guide for Python code. Following it makes your code more readable and consistent.\n",
        "\n",
        "**Key Naming Rules for Beginners:**\n",
        "\n",
        "1.  **Variables and Functions:** Use `snake_case`.\n",
        "    * All lowercase letters.\n",
        "    * Use underscores (`_`) to separate words.\n",
        "    * Examples: `user_name`, `total_count`, `calculate_area()`.\n",
        "    * *Avoid:* `userName`, `TotalCount`, `calculatearea`.\n",
        "\n",
        "2.  **Constants:** Use `ALL_CAPS`.\n",
        "    * Constants are variables whose values are not intended to change.\n",
        "    * All uppercase letters.\n",
        "    * Use underscores (`_`) to separate words.\n",
        "    * Examples: `MAX_CONNECTIONS = 10`, `PI = 3.14159`.\n",
        "\n",
        "3.  **Meaningful Names:** Choose names that clearly indicate the purpose of the variable or function (e.g., `customer_address` instead of `addr` or `ca`).\n",
        "\n",
        "**Why follow conventions?**\n",
        "* **Readability:** Makes code easier for you and others to read and understand.\n",
        "* **Maintainability:** Easier to debug and modify code later.\n",
        "* **Collaboration:** Essential when working in teams."
      ]
    },
    {
      "cell_type": "code",
      "execution_count": null,
      "metadata": {
        "id": "WHBSDABw8ZHd"
      },
      "outputs": [],
      "source": [
        "# Example 6.1: Good Naming\n",
        "first_name = \"Ada\"\n",
        "item_price = 19.99\n",
        "MAX_ATTEMPTS = 3\n",
        "\n",
        "print(first_name)\n",
        "print(item_price)\n",
        "print(MAX_ATTEMPTS)\n",
        "\n",
        "# Example 6.2: Less readable naming (Avoid this!)\n",
        "# FN = \"Ada\"\n",
        "# itemprice = 19.99\n",
        "# maxattempts = 3"
      ]
    },
    {
      "cell_type": "markdown",
      "metadata": {
        "id": "VCLZXaxW8ZHc"
      },
      "source": [
        "### ✨ Group Debugging Activity 2: Operators & Naming ✨\n",
        "\n",
        "**Instructions:**\n",
        "1. Read the code below. It intends to calculate the average of three scores and uses a variable name that doesn't follow conventions.\n",
        "2. Run the code and observe the error or incorrect output.\n",
        "3. Discuss in your group: What are the problems? (Hint: Check operator precedence and variable naming rules).\n",
        "4. In the empty cell below, write the corrected code with proper naming and calculation."
      ]
    },
    {
      "cell_type": "code",
      "execution_count": 33,
      "metadata": {
        "colab": {
          "base_uri": "https://localhost:8080/"
        },
        "id": "ezg1369V8ZHc",
        "outputId": "e58244bc-e9f6-4bac-a8ff-29003377ed48"
      },
      "outputs": [
        {
          "output_type": "stream",
          "name": "stdout",
          "text": [
            "The average score is: 199.0\n",
            "The average score is 199.0\n"
          ]
        }
      ],
      "source": [
        "# Buggy Code 2: Calculating average & Naming\n",
        "\n",
        "score1 = 80\n",
        "score2 = 95\n",
        "score3 = 72\n",
        "\n",
        "# Intends to calculate the average, but has issues\n",
        "average_score = score1 + score2 + score3 / 3\n",
        "\n",
        "print(\"The average score is:\", average_score)\n",
        "print(f\"The average score is {average_score}\")\n",
        "# Also, think about the variable name 'AverageScore' - how could it be improved?"
      ]
    },
    {
      "cell_type": "code",
      "execution_count": null,
      "metadata": {
        "id": "SayZUsbm8ZHc"
      },
      "outputs": [],
      "source": [
        "# Corrected Code 2 Cell\n",
        "# Write your corrected code here\n"
      ]
    },
    {
      "cell_type": "markdown",
      "metadata": {
        "id": "hcE_41jQ8ZHd"
      },
      "source": [
        "## 7. Data Structures (Expanded)\n",
        "\n",
        "Data structures allow us to store and organize collections of data.\n",
        "\n",
        "### 7.1 Lists (`list`)\n",
        "\n",
        "* **Definition:** Ordered, mutable (changeable) sequences of items.\n",
        "* **Syntax:** Defined using square brackets `[]`, items separated by commas.\n",
        "* **Features:** Items can be of different types. Order is preserved. Items can be added, removed, or changed.\n",
        "\n",
        "**Accessing Items:** Use index numbers (starting from 0). `my_list[0]` is the first item.\n",
        "**Slicing:** Get sub-lists using `my_list[start:stop]`. `stop` index is not included."
      ]
    },
    {
      "cell_type": "code",
      "execution_count": 38,
      "metadata": {
        "id": "ZCwSk5jy8ZHd",
        "colab": {
          "base_uri": "https://localhost:8080/"
        },
        "outputId": "89fdfad8-91b5-4a96-9c7a-8927edde0d9c"
      },
      "outputs": [
        {
          "output_type": "stream",
          "name": "stdout",
          "text": [
            "Original list: ['red', 'green', 'blue', 'yellow']\n",
            "First color: red\n",
            "Last color: yellow\n",
            "First two colors: ['red', 'green']\n",
            "From index 1 onwards: ['green', 'blue', 'yellow']\n",
            "Up to index 3: ['red', 'green', 'blue']\n"
          ]
        }
      ],
      "source": [
        "# Example 7.1.1: Creating and accessing lists\n",
        "colours = [\"red\", \"green\", \"blue\", \"yellow\"]\n",
        "print(\"Original list:\", colours)\n",
        "print(\"First color:\", colours[0])\n",
        "print(\"Last color:\", colours[-1]) # Negative index starts from the end\n",
        "\n",
        "\n",
        "# Slicing\n",
        "print(\"First two colors:\", colours[0:2]) # Index 0 up to (not including) 2\n",
        "print(\"From index 1 onwards:\", colours[1:])\n",
        "print(\"Up to index 3:\", colours[:3])"
      ]
    },
    {
      "cell_type": "markdown",
      "metadata": {
        "id": "Tia2YAFG8ZHd"
      },
      "source": [
        "**Common List Methods:**\n",
        "\n",
        "* `append(item)`: Adds an item to the *end* of the list.\n",
        "* `insert(index, item)`: Inserts an item at a specific `index`.\n",
        "* `remove(item)`: Removes the *first occurrence* of an item.\n",
        "* `pop(index=-1)`: Removes and *returns* the item at the given `index` (default is the last item).\n",
        "* `sort()`: Sorts the list in place (ascending order).\n",
        "* `len(list)`: (Function, not method) Returns the number of items in the list."
      ]
    },
    {
      "cell_type": "code",
      "execution_count": 42,
      "metadata": {
        "id": "k7WGKTX38ZHd",
        "colab": {
          "base_uri": "https://localhost:8080/"
        },
        "outputId": "21a3cb6e-60c3-4970-a48e-5e6cc18c23a2"
      },
      "outputs": [
        {
          "output_type": "stream",
          "name": "stdout",
          "text": [
            "Initial numbers: [3, 1, 4, 1, 5, 9]\n",
            "After append(2): [3, 1, 4, 1, 5, 9, 2]\n",
            "After insert(0, 6): [6, 3, 1, 4, 1, 5, 9, 2]\n",
            "After remove(1): [6, 3, 4, 1, 5, 9, 2]\n",
            "Popped item: 2\n",
            "After pop(): [6, 3, 4, 1, 5, 9]\n",
            "After sort(): [1, 3, 4, 5, 6, 9]\n",
            "After sort(reverse=True): [9, 6, 5, 4, 3, 1]\n",
            "Length of list: 6\n"
          ]
        }
      ],
      "source": [
        "# Example 7.1.2: List methods\n",
        "numbers = [3, 1, 4, 1, 5, 9]\n",
        "print(\"Initial numbers:\", numbers)\n",
        "\n",
        "# append()\n",
        "numbers.append(2)\n",
        "print(\"After append(2):\", numbers)\n",
        "\n",
        "# insert()\n",
        "numbers.insert(0, 6) # Insert 6 at index 0\n",
        "print(\"After insert(0, 6):\", numbers)\n",
        "\n",
        "# remove()\n",
        "numbers.remove(1) # Remove the first '1'\n",
        "print(\"After remove(1):\", numbers)\n",
        "\n",
        "# pop()\n",
        "last_item = numbers.pop() # Remove and get the last item\n",
        "print(\"Popped item:\", last_item)\n",
        "print(\"After pop():\", numbers)\n",
        "\n",
        "# sort() Ascending\n",
        "numbers.sort() # Sort in ascending order\n",
        "print(\"After sort():\", numbers)\n",
        "\n",
        "# sort() Descending\n",
        "numbers.sort(reverse=True) # Sort in descending order\n",
        "print(\"After sort(reverse=True):\", numbers)\n",
        "\n",
        "# len()\n",
        "print(\"Length of list:\", len(numbers))"
      ]
    },
    {
      "cell_type": "markdown",
      "metadata": {
        "id": "VIXRP9UQ8ZHd"
      },
      "source": [
        "**Exercise 7.1:**\n",
        "1. Create a list named `tasks` with initial items: `\"email\", \"call\", \"meeting\"`.\n",
        "2. Add `\"report\"` to the end of the list.\n",
        "3. Insert `\"lunch\"` at index 1.\n",
        "4. Remove `\"call\"` from the list.\n",
        "5. Print the final list and its length."
      ]
    },
    {
      "cell_type": "code",
      "execution_count": null,
      "metadata": {
        "id": "2ZyW1E9P8ZHk"
      },
      "outputs": [],
      "source": [
        "# Exercise 7.1 Code Cell\n"
      ]
    },
    {
      "cell_type": "markdown",
      "metadata": {
        "id": "XYWKkEug8ZHk"
      },
      "source": [
        "### ✨ Group Debugging Activity 3: List Indexing ✨\n",
        "\n",
        "**Instructions:**\n",
        "1. Read the code below. It defines a list of fruits and intends to print the *last* fruit.\n",
        "2. Run the code and observe the `IndexError`.\n",
        "3. Discuss in your group: Why does this error happen? How does list indexing work? How can you correctly access the last item?\n",
        "4. In the empty cell below, write the corrected code to print the last fruit."
      ]
    },
    {
      "cell_type": "code",
      "execution_count": null,
      "metadata": {
        "id": "793NEREz8ZHk"
      },
      "outputs": [],
      "source": [
        "# Buggy Code 3: Accessing list items\n",
        "fruits = [\"apple\", \"banana\", \"cherry\"]\n",
        "print(\"The list has\", len(fruits), \"items.\")\n",
        "\n",
        "# This code intends to print the LAST fruit ('cherry')\n",
        "# but uses the wrong index\n",
        "index_to_get = len(fruits) # What is the value of index_to_get?\n",
        "print(\"Trying to get item at index:\", index_to_get)\n",
        "print(\"The last fruit is:\", fruits[index_to_get])"
      ]
    },
    {
      "cell_type": "code",
      "execution_count": null,
      "metadata": {
        "id": "U3xl9YMu8ZHl"
      },
      "outputs": [],
      "source": [
        "# Corrected Code 3 Cell\n",
        "# Write your corrected code here\n"
      ]
    },
    {
      "cell_type": "markdown",
      "metadata": {
        "id": "iIJ93tUg8ZHl"
      },
      "source": [
        "### 7.2 Tuples (`tuple`)\n",
        "\n",
        "* **Definition:** Ordered, **immutable** (unchangeable) sequences of items.\n",
        "* **Syntax:** Defined using parentheses `()`, items separated by commas. (Parentheses optional in some contexts, but recommended for clarity).\n",
        "* **Features:** Order is preserved. Once created, items *cannot* be added, removed, or changed. Useful for data that should not be modified (e.g., coordinates, RGB colors).\n",
        "\n",
        "**Accessing Items & Slicing:** Same as lists (`my_tuple[0]`, `my_tuple[start:stop]`)."
      ]
    },
    {
      "cell_type": "code",
      "execution_count": 43,
      "metadata": {
        "id": "GrX6cQk88ZHl",
        "colab": {
          "base_uri": "https://localhost:8080/"
        },
        "outputId": "95748ded-5550-4d02-de5c-e859ee499355"
      },
      "outputs": [
        {
          "output_type": "stream",
          "name": "stdout",
          "text": [
            "Point: (10, 20, 30)\n",
            "First coordinate: 10\n",
            "RGB colors: ('red', 'green', 'blue')\n",
            "Sliced tuple: ('red', 'green')\n",
            "\n",
            "Error when trying to change tuple: 'tuple' object does not support item assignment\n"
          ]
        }
      ],
      "source": [
        "# Example 7.2.1: Creating and accessing tuples\n",
        "point = (10, 20, 30) # x, y, z coordinates\n",
        "rgb = (\"red\", \"green\", \"blue\")\n",
        "\n",
        "print(\"Point:\", point)\n",
        "print(\"First coordinate:\", point[0])\n",
        "print(\"RGB colors:\", rgb)\n",
        "print(\"Sliced tuple:\", rgb[0:2])\n",
        "\n",
        "# Attempting to change a tuple item (will cause an error!)\n",
        "try:\n",
        "  point[0] = 5\n",
        "except TypeError as e:\n",
        "  print(\"\\nError when trying to change tuple:\", e)"
      ]
    },
    {
      "cell_type": "markdown",
      "metadata": {
        "id": "BKepcQYa8ZHl"
      },
      "source": [
        "**Common Tuple Methods/Functions:**\n",
        "\n",
        "* `count(item)`: Returns the number of times an `item` appears in the tuple.\n",
        "* `index(item)`: Returns the index of the *first occurrence* of an `item`.\n",
        "* `len(tuple)`: (Function) Returns the number of items in the tuple."
      ]
    },
    {
      "cell_type": "code",
      "execution_count": 44,
      "metadata": {
        "id": "jwvrTexd8ZHl",
        "colab": {
          "base_uri": "https://localhost:8080/"
        },
        "outputId": "14b2f3c6-a97c-4cd9-9372-cd24ee0b4dbc"
      },
      "outputs": [
        {
          "output_type": "stream",
          "name": "stdout",
          "text": [
            "Number of 'A' grades: 3\n",
            "Index of first 'B' grade: 1\n",
            "Total number of grades: 6\n"
          ]
        }
      ],
      "source": [
        "# Example 7.2.2: Tuple methods\n",
        "grades = ('A', 'B', 'C', 'B', 'A', 'A')\n",
        "\n",
        "# count()\n",
        "count_A = grades.count('A')\n",
        "print(f\"Number of 'A' grades: {count_A}\")\n",
        "\n",
        "# index()\n",
        "index_first_B = grades.index('B')\n",
        "print(f\"Index of first 'B' grade: {index_first_B}\")\n",
        "\n",
        "# len()\n",
        "print(f\"Total number of grades: {len(grades)}\")"
      ]
    },
    {
      "cell_type": "markdown",
      "metadata": {
        "id": "S77FNODi8ZHl"
      },
      "source": [
        "**Exercise 7.2:**\n",
        "1. Create a tuple named `dimensions` representing (length, width, height): `(12.5, 8.0, 5.2)`.\n",
        "2. Print the tuple.\n",
        "3. Print the width (the second item).\n",
        "4. Try to find the index of the value `8.0`."
      ]
    },
    {
      "cell_type": "code",
      "execution_count": null,
      "metadata": {
        "id": "6BEz8YEf8ZHl"
      },
      "outputs": [],
      "source": [
        "# Exercise 7.2 Code Cell\n"
      ]
    },
    {
      "cell_type": "markdown",
      "metadata": {
        "id": "L7sMp6wr8ZHl"
      },
      "source": [
        "### ✨ Group Debugging Activity 4: Tuple Immutability ✨\n",
        "\n",
        "**Instructions:**\n",
        "1. Read the code below. It defines a tuple representing RGB color values and tries to change the 'blue' value.\n",
        "2. Run the code and observe the `TypeError`.\n",
        "3. Discuss in your group: Why does this error happen? What does 'immutable' mean for tuples?\n",
        "4. You don't need to 'fix' this code to change the tuple (because you can't!). Instead, discuss *why* this error occurs and what makes tuples different from lists in this regard."
      ]
    },
    {
      "cell_type": "code",
      "execution_count": null,
      "metadata": {
        "id": "wttBmmml8ZHl"
      },
      "outputs": [],
      "source": [
        "# Buggy Code 4: Trying to change a tuple\n",
        "primary_colors = (\"red\", \"green\", \"blue\")\n",
        "\n",
        "print(\"Original colors:\", primary_colors)\n",
        "\n",
        "# This code intends to change 'blue' to 'yellow', but tuples are immutable!\n",
        "print(\"Attempting to change the last color...\")\n",
        "primary_colors[2] = \"yellow\"\n",
        "\n",
        "print(\"Updated colors:\", primary_colors) # This line won't be reached"
      ]
    },
    {
      "cell_type": "markdown",
      "metadata": {
        "id": "Xw-2jpt78ZHl"
      },
      "source": [
        "### 7.3 Dictionaries (`dict`)\n",
        "\n",
        "* **Definition:** Collections of **key-value pairs**. Mutable.\n",
        "* **Syntax:** Defined using curly braces `{}`. Each item is `key: value`, pairs separated by commas.\n",
        "* **Features:** Keys must be unique and immutable (usually strings or numbers). Values can be any type. Dictionaries are used to map keys to values for fast lookups.\n",
        "    * *Note:* Since Python 3.7, dictionaries remember the order items were inserted. In older versions, they were unordered.\n",
        "\n",
        "**Accessing Values:** Use the key in square brackets: `my_dict[key]`.\n",
        "**Adding/Updating:** Assign a value to a new or existing key: `my_dict[key] = value`."
      ]
    },
    {
      "cell_type": "code",
      "execution_count": 45,
      "metadata": {
        "id": "ek7_17k98ZHl",
        "colab": {
          "base_uri": "https://localhost:8080/"
        },
        "outputId": "5b04f7a6-9b0c-4396-e381-0cff604b4b7c"
      },
      "outputs": [
        {
          "output_type": "stream",
          "name": "stdout",
          "text": [
            "Student dictionary: {'name': 'Charlie', 'major': 'History', 'student_id': 9876}\n",
            "Student name: Charlie\n",
            "Updated student: {'name': 'Charlie', 'major': 'Ancient History', 'student_id': 9876, 'year': 2}\n"
          ]
        }
      ],
      "source": [
        "# Example 7.3.1: Creating and accessing dictionaries\n",
        "student = {\n",
        "    \"name\": \"Charlie\",\n",
        "    \"major\": \"History\",\n",
        "    \"student_id\": 9876\n",
        "}\n",
        "print(\"Student dictionary:\", student)\n",
        "\n",
        "# Accessing values\n",
        "print(\"Student name:\", student[\"name\"])\n",
        "\n",
        "# Adding/Updating values\n",
        "student[\"year\"] = 2 # Add a new key-value pair\n",
        "student[\"major\"] = \"Ancient History\" # Update existing key\n",
        "print(\"Updated student:\", student)"
      ]
    },
    {
      "cell_type": "markdown",
      "metadata": {
        "id": "3rjil-Yl8ZHl"
      },
      "source": [
        "**Common Dictionary Methods/Functions:**\n",
        "\n",
        "* `get(key, default=None)`: Returns the value for `key`. If `key` is not found, returns `default` (or `None` if `default` isn't specified) instead of raising an error.\n",
        "* `keys()`: Returns a view object containing the dictionary's keys.\n",
        "* `values()`: Returns a view object containing the dictionary's values.\n",
        "* `items()`: Returns a view object containing the dictionary's key-value tuple pairs.\n",
        "* `pop(key, default=None)`: Removes the specified `key` and returns its value. If `key` is not found, returns `default` or raises an error if `default` isn't specified.\n",
        "* `len(dict)`: (Function) Returns the number of key-value pairs."
      ]
    },
    {
      "cell_type": "code",
      "execution_count": 46,
      "metadata": {
        "id": "S465OQUC8ZHl",
        "colab": {
          "base_uri": "https://localhost:8080/"
        },
        "outputId": "1beab026-cc06-4281-a2b7-43d34a6342cc"
      },
      "outputs": [
        {
          "output_type": "stream",
          "name": "stdout",
          "text": [
            "Capital of Spain: Not Found\n",
            "Capital of UK: London\n",
            "Keys: dict_keys(['UK', 'France', 'Germany'])\n",
            "Values: dict_values(['London', 'Paris', 'Berlin'])\n",
            "Items: dict_items([('UK', 'London'), ('France', 'Paris'), ('Germany', 'Berlin')])\n",
            "Removed capital: Paris\n",
            "After pop('France'): {'UK': 'London', 'Germany': 'Berlin'}\n",
            "Number of capitals: 2\n"
          ]
        }
      ],
      "source": [
        "# Example 7.3.2: Dictionary methods\n",
        "capitals = {\"UK\": \"London\", \"France\": \"Paris\", \"Germany\": \"Berlin\"}\n",
        "\n",
        "# get()\n",
        "capital_spain = capitals.get(\"Spain\", \"Not Found\")\n",
        "print(\"Capital of Spain:\", capital_spain)\n",
        "capital_uk = capitals.get(\"UK\")\n",
        "print(\"Capital of UK:\", capital_uk)\n",
        "\n",
        "# keys(), values(), items()\n",
        "print(\"Keys:\", capitals.keys())\n",
        "print(\"Values:\", capitals.values())\n",
        "print(\"Items:\", capitals.items())\n",
        "\n",
        "# pop()\n",
        "removed_capital = capitals.pop(\"France\")\n",
        "print(\"Removed capital:\", removed_capital)\n",
        "print(\"After pop('France'):\", capitals)\n",
        "\n",
        "# len()\n",
        "print(\"Number of capitals:\", len(capitals))"
      ]
    },
    {
      "cell_type": "markdown",
      "metadata": {
        "id": "0hy1MZ398ZHl"
      },
      "source": [
        "**Exercise 7.3:**\n",
        "1. Create a dictionary `book` with keys `\"title\"`, `\"author\"`, `\"year\"` and corresponding values.\n",
        "2. Print the author of the book using key access.\n",
        "3. Add a new key `\"genre\"` with a value.\n",
        "4. Use the `get()` method to try and retrieve the value for a key `\"rating\"`, providing a default value like `\"Not Rated\"`.\n",
        "5. Print all the keys in the dictionary.\n",
        "6. Print the final dictionary."
      ]
    },
    {
      "cell_type": "code",
      "execution_count": null,
      "metadata": {
        "id": "hyug2u_48ZHl"
      },
      "outputs": [],
      "source": [
        "# Exercise 7.3 Code Cell\n"
      ]
    },
    {
      "cell_type": "markdown",
      "metadata": {
        "id": "HrAy4QpF8ZHl"
      },
      "source": [
        "### ✨ Group Debugging Activity 5: Dictionary Keys ✨\n",
        "\n",
        "**Instructions:**\n",
        "1. Read the code below. It defines a dictionary of item prices and tries to access the price for 'banana'.\n",
        "2. Run the code and observe the `KeyError`.\n",
        "3. Discuss in your group: Why does this error happen? How do you correctly access values in a dictionary? What could you use if you're *not sure* if a key exists?\n",
        "4. In the empty cell below, write corrected code that *either* accesses an existing key correctly *or* safely tries to access 'banana' without causing an error (e.g., using `get()`)."
      ]
    },
    {
      "cell_type": "code",
      "execution_count": null,
      "metadata": {
        "id": "tMF1fkz88ZHm"
      },
      "outputs": [],
      "source": [
        "# Buggy Code 5: Accessing dictionary values\n",
        "item_prices = {\n",
        "    \"apple\": 0.50,\n",
        "    \"orange\": 0.75,\n",
        "    \"pear\": 0.60\n",
        "}\n",
        "\n",
        "print(\"Item prices:\", item_prices)\n",
        "\n",
        "# This code intends to get the price of a 'banana', but it's not in the dictionary!\n",
        "print(\"Getting price for 'banana'...\")\n",
        "banana_price = item_prices[\"banana\"]\n",
        "\n",
        "print(\"Price of banana:\", banana_price) # This line won't be reached"
      ]
    },
    {
      "cell_type": "code",
      "execution_count": null,
      "metadata": {
        "id": "Vlrpa9w98ZHm"
      },
      "outputs": [],
      "source": [
        "# Corrected Code 5 Cell\n",
        "# Write your corrected code here\n"
      ]
    },
    {
      "cell_type": "markdown",
      "source": [
        "## Python Sets – Simple Explanation\n",
        "\n",
        "A **set** is a built-in Python data structure that stores a collection of **unique items**.  \n",
        "Unlike lists, sets do not allow duplicates, and the order of elements is not fixed.\n",
        "\n",
        "### ✨ Why Use Sets?\n",
        "- To remove duplicates from a collection.\n",
        "- To check membership efficiently.\n",
        "- To store unique values.\n",
        "\n",
        "### 🔧 Common Set Operations in This Example:\n",
        "- `my_set.add(item)` – Adds a new item to the set.\n",
        "- `my_set.remove(item)` – Removes an item from the set (gives an error if it doesn't exist).\n",
        "\n",
        "### 💡 Simple Use Case:\n",
        "You're keeping a list of fruits you have in your basket. You want to add a new fruit and later remove one."
      ],
      "metadata": {
        "id": "83dDBINVEjda"
      }
    },
    {
      "cell_type": "code",
      "source": [
        "# Create a set of fruits\n",
        "fruits = {\"apple\", \"banana\", \"orange\"}\n",
        "print(\"Initial set:\", fruits)\n",
        "\n",
        "# Add a new fruit\n",
        "fruits.add(\"grape\")\n",
        "print(\"After adding grape:\", fruits)\n",
        "\n",
        "# Remove a fruit\n",
        "fruits.remove(\"banana\")\n",
        "print(\"After removing banana:\", fruits)"
      ],
      "metadata": {
        "colab": {
          "base_uri": "https://localhost:8080/"
        },
        "id": "PiGdIxxREp3A",
        "outputId": "eed99a69-6efa-43c7-8656-8007cd786811"
      },
      "execution_count": null,
      "outputs": [
        {
          "output_type": "stream",
          "name": "stdout",
          "text": [
            "Initial set: {'apple', 'banana', 'orange'}\n",
            "After adding grape: {'apple', 'banana', 'orange', 'grape'}\n",
            "After removing banana: {'apple', 'orange', 'grape'}\n"
          ]
        }
      ]
    },
    {
      "cell_type": "markdown",
      "metadata": {
        "id": "6mO3Oq4o8ZHm"
      },
      "source": [
        "## Day 1 Wrap-up\n",
        "\n",
        "Excellent work! You've covered a lot of ground today, including debugging!\n",
        "\n",
        "**Recap:**\n",
        "* Output with `print()` and Input with `input()`.\n",
        "* Variables and basic types (`int`, `float`, `str`, `bool`).\n",
        "* Special characters using escape sequences (`\\n`, `\\t`, etc.).\n",
        "* Mathematical calculations using operators (`+`, `-`, `*`, `/`, `//`, `%`, `**`).\n",
        "* Difference between concatenation (`+`) and commas (`,`) in `print()`.\n",
        "* Importance of naming conventions (PEP 8 `snake_case`).\n",
        "* Data Structures:\n",
        "    * **Lists:** Ordered, mutable, methods like `append`, `insert`, `remove`, `sort`.\n",
        "    * **Tuples:** Ordered, immutable, methods like `count`, `index`.\n",
        "    * **Dictionaries:** Key-value pairs, mutable, methods like `get`, `keys`, `values`, `items`, `pop`.\n",
        "* Common errors related to types, indexing, immutability, keys, and operators, tackled in group activities.\n",
        "\n",
        "**Keep Practicing!** Experiment with the examples, try different values, and work through the exercises and debugging challenges. The more you code (and debug!), the more comfortable you'll become.\n",
        "\n",
        "**Next Steps:** We'll likely explore conditional logic (`if`, `elif`, `else`), comparisons, and looking at loops."
      ]
    }
  ],
  "metadata": {
    "kernelspec": {
      "display_name": "Python 3",
      "language": "python",
      "name": "python3"
    },
    "language_info": {
      "name": "python",
      "version": "3.10"
    },
    "colab": {
      "provenance": []
    }
  },
  "nbformat": 4,
  "nbformat_minor": 0
}